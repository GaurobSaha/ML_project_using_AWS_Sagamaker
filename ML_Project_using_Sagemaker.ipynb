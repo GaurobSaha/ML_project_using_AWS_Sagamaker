{
 "cells": [
  {
   "cell_type": "code",
   "execution_count": 1,
   "id": "3057fd62-2979-490e-b7ae-6b02a124bf3f",
   "metadata": {
    "execution": {
     "iopub.execute_input": "2025-07-07T18:25:45.946023Z",
     "iopub.status.busy": "2025-07-07T18:25:45.945642Z",
     "iopub.status.idle": "2025-07-07T18:25:49.711026Z",
     "shell.execute_reply": "2025-07-07T18:25:49.709031Z",
     "shell.execute_reply.started": "2025-07-07T18:25:45.945994Z"
    }
   },
   "outputs": [
    {
     "name": "stdout",
     "output_type": "stream",
     "text": [
      "sagemaker.config INFO - Not applying SDK defaults from location: /etc/xdg/sagemaker/config.yaml\n",
      "sagemaker.config INFO - Not applying SDK defaults from location: /home/sagemaker-user/.config/sagemaker/config.yaml\n"
     ]
    }
   ],
   "source": [
    "import pandas as pd\n",
    "import numpy as np\n",
    "import boto3 #AWS SDK for Python; used to connect with AWS services like S3, SageMaker.\n",
    "from sklearn.model_selection import train_test_split\n",
    "import sagemaker \n",
    "from sagemaker import Session\n",
    "import io # uploading data to AWS without saving locally.\n",
    "import sagemaker.amazon.common as smac #used for converting NumPy arrays to Amazon RecordIO format for SageMaker training.\n",
    "import os #Standard module for interacting with the operating system (file paths, environment variables, etc.).\n",
    "from sagemaker.amazon.amazon_estimator import get_image_uri #Used to get the container image URI for built-in Amazon SageMaker algorithms.\n"
   ]
  },
  {
   "cell_type": "code",
   "execution_count": 2,
   "id": "c95dd7fc-a682-49eb-8eb0-5bb6adec2e5b",
   "metadata": {
    "execution": {
     "iopub.execute_input": "2025-07-07T18:25:57.144948Z",
     "iopub.status.busy": "2025-07-07T18:25:57.144547Z",
     "iopub.status.idle": "2025-07-07T18:25:57.181160Z",
     "shell.execute_reply": "2025-07-07T18:25:57.180257Z",
     "shell.execute_reply.started": "2025-07-07T18:25:57.144918Z"
    }
   },
   "outputs": [
    {
     "data": {
      "text/html": [
       "<div>\n",
       "<style scoped>\n",
       "    .dataframe tbody tr th:only-of-type {\n",
       "        vertical-align: middle;\n",
       "    }\n",
       "\n",
       "    .dataframe tbody tr th {\n",
       "        vertical-align: top;\n",
       "    }\n",
       "\n",
       "    .dataframe thead th {\n",
       "        text-align: right;\n",
       "    }\n",
       "</style>\n",
       "<table border=\"1\" class=\"dataframe\">\n",
       "  <thead>\n",
       "    <tr style=\"text-align: right;\">\n",
       "      <th></th>\n",
       "      <th>Hours</th>\n",
       "      <th>Scores</th>\n",
       "    </tr>\n",
       "  </thead>\n",
       "  <tbody>\n",
       "    <tr>\n",
       "      <th>0</th>\n",
       "      <td>2.5</td>\n",
       "      <td>21</td>\n",
       "    </tr>\n",
       "    <tr>\n",
       "      <th>1</th>\n",
       "      <td>5.1</td>\n",
       "      <td>47</td>\n",
       "    </tr>\n",
       "    <tr>\n",
       "      <th>2</th>\n",
       "      <td>3.2</td>\n",
       "      <td>27</td>\n",
       "    </tr>\n",
       "    <tr>\n",
       "      <th>3</th>\n",
       "      <td>8.5</td>\n",
       "      <td>75</td>\n",
       "    </tr>\n",
       "    <tr>\n",
       "      <th>4</th>\n",
       "      <td>3.5</td>\n",
       "      <td>30</td>\n",
       "    </tr>\n",
       "  </tbody>\n",
       "</table>\n",
       "</div>"
      ],
      "text/plain": [
       "   Hours  Scores\n",
       "0    2.5      21\n",
       "1    5.1      47\n",
       "2    3.2      27\n",
       "3    8.5      75\n",
       "4    3.5      30"
      ]
     },
     "execution_count": 2,
     "metadata": {},
     "output_type": "execute_result"
    }
   ],
   "source": [
    "df = pd.read_csv(\"student_scores.csv\")\n",
    "df.head()"
   ]
  },
  {
   "cell_type": "code",
   "execution_count": 3,
   "id": "5ceb2afe-7e37-45ed-890e-fe1eab78a18d",
   "metadata": {
    "execution": {
     "iopub.execute_input": "2025-07-07T18:26:00.421571Z",
     "iopub.status.busy": "2025-07-07T18:26:00.420387Z",
     "iopub.status.idle": "2025-07-07T18:26:00.429883Z",
     "shell.execute_reply": "2025-07-07T18:26:00.428499Z",
     "shell.execute_reply.started": "2025-07-07T18:26:00.421395Z"
    }
   },
   "outputs": [
    {
     "data": {
      "text/plain": [
       "(25, 2)"
      ]
     },
     "execution_count": 3,
     "metadata": {},
     "output_type": "execute_result"
    }
   ],
   "source": [
    "df.shape\n",
    "(25, 2)\n"
   ]
  },
  {
   "cell_type": "code",
   "execution_count": 4,
   "id": "c5b19ca0-4761-47d3-86e4-edd3dbc7a1a4",
   "metadata": {
    "execution": {
     "iopub.execute_input": "2025-07-07T18:26:03.391771Z",
     "iopub.status.busy": "2025-07-07T18:26:03.391286Z",
     "iopub.status.idle": "2025-07-07T18:26:03.415331Z",
     "shell.execute_reply": "2025-07-07T18:26:03.411826Z",
     "shell.execute_reply.started": "2025-07-07T18:26:03.391742Z"
    }
   },
   "outputs": [],
   "source": [
    "x = df[[\"Hours\"]]    # Independent variable (input feature)\n",
    "y = df[[\"Scores\"]]   # Dependent variable (target/output)\n"
   ]
  },
  {
   "cell_type": "code",
   "execution_count": 5,
   "id": "c6184192-b18b-4b00-8d9c-ab43ba5278c1",
   "metadata": {
    "execution": {
     "iopub.execute_input": "2025-07-07T18:26:06.668000Z",
     "iopub.status.busy": "2025-07-07T18:26:06.667444Z",
     "iopub.status.idle": "2025-07-07T18:26:06.674925Z",
     "shell.execute_reply": "2025-07-07T18:26:06.674201Z",
     "shell.execute_reply.started": "2025-07-07T18:26:06.667958Z"
    }
   },
   "outputs": [
    {
     "data": {
      "text/plain": [
       "Hours    float64\n",
       "dtype: object"
      ]
     },
     "execution_count": 5,
     "metadata": {},
     "output_type": "execute_result"
    }
   ],
   "source": [
    "x.dtypes\n"
   ]
  },
  {
   "cell_type": "code",
   "execution_count": 6,
   "id": "d8cfdc42-ede1-4968-9531-e8412f303643",
   "metadata": {
    "execution": {
     "iopub.execute_input": "2025-07-07T18:26:09.521958Z",
     "iopub.status.busy": "2025-07-07T18:26:09.521591Z",
     "iopub.status.idle": "2025-07-07T18:26:09.527798Z",
     "shell.execute_reply": "2025-07-07T18:26:09.526719Z",
     "shell.execute_reply.started": "2025-07-07T18:26:09.521932Z"
    }
   },
   "outputs": [],
   "source": [
    "# Converts both x and y columns to float32 type.\n",
    "# AWS SageMaker, as built-in algorithms (e.g., linear learner) often expect float32\n",
    "x = x.astype(\"float32\")\n",
    "y = y.astype(\"float32\")\n"
   ]
  },
  {
   "cell_type": "code",
   "execution_count": 7,
   "id": "2ac18fb3-5f4d-458f-bd89-9ae09f613ae4",
   "metadata": {
    "execution": {
     "iopub.execute_input": "2025-07-07T18:26:11.666735Z",
     "iopub.status.busy": "2025-07-07T18:26:11.666269Z",
     "iopub.status.idle": "2025-07-07T18:26:11.677980Z",
     "shell.execute_reply": "2025-07-07T18:26:11.676990Z",
     "shell.execute_reply.started": "2025-07-07T18:26:11.666707Z"
    }
   },
   "outputs": [],
   "source": [
    "X_train, X_test, y_train, y_test = train_test_split(x, y, test_size=0.2)\n"
   ]
  },
  {
   "cell_type": "code",
   "execution_count": 8,
   "id": "fbfa2010-d1f6-459c-a1c7-fc69895cda93",
   "metadata": {
    "execution": {
     "iopub.execute_input": "2025-07-07T18:26:14.462853Z",
     "iopub.status.busy": "2025-07-07T18:26:14.462092Z",
     "iopub.status.idle": "2025-07-07T18:26:14.469964Z",
     "shell.execute_reply": "2025-07-07T18:26:14.468969Z",
     "shell.execute_reply.started": "2025-07-07T18:26:14.462815Z"
    }
   },
   "outputs": [],
   "source": [
    "# Purpose: Reset the indices of each DataFrame after the split.\n",
    "#drop=True avoids adding the old index as a new column.\n",
    "X_train = X_train.reset_index(drop=True)\n",
    "y_train = y_train.reset_index(drop=True)\n",
    "X_test = X_test.reset_index(drop=True)\n",
    "y_test = y_test.reset_index(drop=True)\n"
   ]
  },
  {
   "cell_type": "code",
   "execution_count": 9,
   "id": "8e8bcab3-2532-4b68-807d-4ccc6b714bc7",
   "metadata": {
    "execution": {
     "iopub.execute_input": "2025-07-07T18:26:16.622124Z",
     "iopub.status.busy": "2025-07-07T18:26:16.621582Z",
     "iopub.status.idle": "2025-07-07T18:26:16.625485Z",
     "shell.execute_reply": "2025-07-07T18:26:16.624831Z",
     "shell.execute_reply.started": "2025-07-07T18:26:16.622096Z"
    }
   },
   "outputs": [],
   "source": [
    "# y_train was originally a DataFrame with one column (e.g., \"Scores\").\n",
    "# y_train.iloc[:, 0] selects all rows (:) and the first column (0) using .iloc, which is index-based.\n",
    "#This converts the single-column DataFrame into a Series (1D vector), which is often required for model training functions that expect a vector, not a matrix.\n",
    "y_train = y_train.iloc[:, 0]\n"
   ]
  },
  {
   "cell_type": "code",
   "execution_count": 10,
   "id": "280a79cb-07b4-433e-b683-a8a0bd388d49",
   "metadata": {
    "execution": {
     "iopub.execute_input": "2025-07-07T18:26:19.573216Z",
     "iopub.status.busy": "2025-07-07T18:26:19.572529Z",
     "iopub.status.idle": "2025-07-07T18:26:19.908004Z",
     "shell.execute_reply": "2025-07-07T18:26:19.907260Z",
     "shell.execute_reply.started": "2025-07-07T18:26:19.573149Z"
    }
   },
   "outputs": [],
   "source": [
    "# Convert the label column to vector (1D array)\n",
    "y_test = y_test.iloc[:, 0]\n",
    "\n",
    "# Let's create SageMaker session\n",
    "sagemaker_session = sagemaker.Session()\n",
    "\n",
    "# Define the S3 bucket name\n",
    "bucket_name = \"gaurobsagemaker\"\n",
    "\n",
    "# Define the prefix (folder in S3)\n",
    "prefix = \"linear-learner\"\n",
    "\n",
    "# Get the execution role (IAM role for SageMaker)\n",
    "role = sagemaker.get_execution_role()\n"
   ]
  },
  {
   "cell_type": "code",
   "execution_count": 12,
   "id": "7545ef39-168b-4636-ba33-d7e3bdca1b3f",
   "metadata": {
    "execution": {
     "iopub.execute_input": "2025-07-07T18:26:54.407234Z",
     "iopub.status.busy": "2025-07-07T18:26:54.406873Z",
     "iopub.status.idle": "2025-07-07T18:26:54.413868Z",
     "shell.execute_reply": "2025-07-07T18:26:54.412616Z",
     "shell.execute_reply.started": "2025-07-07T18:26:54.407208Z"
    }
   },
   "outputs": [
    {
     "data": {
      "text/plain": [
       "0"
      ]
     },
     "execution_count": 12,
     "metadata": {},
     "output_type": "execute_result"
    }
   ],
   "source": [
    "# Convert x_train into numpy array\n",
    "X_train = np.array(X_train)\n",
    "\n",
    "# Create the buffer\n",
    "buf = io.BytesIO()\n",
    "\n",
    "# Write numpy arrays to a dense tensor protobuf format compatible with SageMaker\n",
    "smac.write_numpy_to_dense_tensor(buf, X_train, y_train)\n",
    "\n",
    "# Reset buffer position to the start\n",
    "buf.seek(0)\n"
   ]
  },
  {
   "cell_type": "code",
   "execution_count": 13,
   "id": "b9f2003a-c35e-425d-83af-ee3751afe71f",
   "metadata": {
    "execution": {
     "iopub.execute_input": "2025-07-07T18:27:10.550640Z",
     "iopub.status.busy": "2025-07-07T18:27:10.550129Z",
     "iopub.status.idle": "2025-07-07T18:27:10.731971Z",
     "shell.execute_reply": "2025-07-07T18:27:10.730490Z",
     "shell.execute_reply.started": "2025-07-07T18:27:10.550611Z"
    }
   },
   "outputs": [
    {
     "name": "stdout",
     "output_type": "stream",
     "text": [
      "Data uploaded: s3://gaurobsagemaker/linear-learner/train/students.data\n"
     ]
    }
   ],
   "source": [
    "# Define the name of the file to be uploaded\n",
    "key = \"students.data\"\n",
    "\n",
    "# Code to upload the buffer object to S3\n",
    "boto3.resource('s3').Bucket(bucket_name).Object(os.path.join(prefix, 'train', key)).upload_fileobj(buf)\n",
    "\n",
    "# Construct the full S3 path of the uploaded training data\n",
    "s3_train_data = f\"s3://{bucket_name}/{prefix}/train/{key}\"\n",
    "\n",
    "# Confirmation message\n",
    "print(\"Data uploaded:\", s3_train_data)\n"
   ]
  },
  {
   "cell_type": "code",
   "execution_count": 14,
   "id": "68ed526b-7fdc-4beb-87b7-fe3e838ba424",
   "metadata": {
    "execution": {
     "iopub.execute_input": "2025-07-07T18:31:01.016156Z",
     "iopub.status.busy": "2025-07-07T18:31:01.015692Z",
     "iopub.status.idle": "2025-07-07T18:31:01.101183Z",
     "shell.execute_reply": "2025-07-07T18:31:01.099645Z",
     "shell.execute_reply.started": "2025-07-07T18:31:01.016127Z"
    }
   },
   "outputs": [
    {
     "name": "stdout",
     "output_type": "stream",
     "text": [
      "Data uploaded: s3://gaurobsagemaker/linear-learner/test/student-data-test\n"
     ]
    }
   ],
   "source": [
    "# Convert X_test into numpy array\n",
    "X_test = np.array(X_test)\n",
    "\n",
    "# Create the buffer\n",
    "buf = io.BytesIO()\n",
    "smac.write_numpy_to_dense_tensor(buf, X_test, y_test)\n",
    "buf.seek(0)\n",
    "\n",
    "# Define the name of the file to be uploaded\n",
    "key = \"student-data-test\"\n",
    "\n",
    "# Code to upload the buffer content to S3\n",
    "boto3.resource('s3').Bucket(bucket_name).Object(os.path.join(prefix, 'test', key)).upload_fileobj(buf)\n",
    "\n",
    "# Construct the S3 path of the test dataset\n",
    "s3_train_data = f\"s3://{bucket_name}/{prefix}/test/{key}\"\n",
    "\n",
    "# Print confirmation\n",
    "print(\"Data uploaded:\", s3_train_data)\n"
   ]
  },
  {
   "cell_type": "code",
   "execution_count": 15,
   "id": "0211fb64-20b9-4311-b695-2bbac1f21b7f",
   "metadata": {
    "execution": {
     "iopub.execute_input": "2025-07-07T18:33:14.450519Z",
     "iopub.status.busy": "2025-07-07T18:33:14.449894Z",
     "iopub.status.idle": "2025-07-07T18:33:14.456349Z",
     "shell.execute_reply": "2025-07-07T18:33:14.455564Z",
     "shell.execute_reply.started": "2025-07-07T18:33:14.450488Z"
    }
   },
   "outputs": [
    {
     "data": {
      "text/plain": [
       "'s3://gaurobsagemaker/linear-learner/output'"
      ]
     },
     "execution_count": 15,
     "metadata": {},
     "output_type": "execute_result"
    }
   ],
   "source": [
    "# Output location for the trained model artifacts in S3\n",
    "output_location = f\"s3://{bucket_name}/{prefix}/output\"\n",
    "output_location\n"
   ]
  },
  {
   "cell_type": "code",
   "execution_count": 16,
   "id": "5ff73dd3-4207-4f2e-ba13-58786a4c8578",
   "metadata": {
    "execution": {
     "iopub.execute_input": "2025-07-07T18:33:29.181423Z",
     "iopub.status.busy": "2025-07-07T18:33:29.180421Z",
     "iopub.status.idle": "2025-07-07T18:33:29.221818Z",
     "shell.execute_reply": "2025-07-07T18:33:29.219585Z",
     "shell.execute_reply.started": "2025-07-07T18:33:29.181388Z"
    }
   },
   "outputs": [],
   "source": [
    "# Retrieve the container image URI for the Linear Learner algorithm\n",
    "container = sagemaker.image_uris.retrieve(\"linear-learner\", boto3.Session().region_name)\n"
   ]
  },
  {
   "cell_type": "code",
   "execution_count": 21,
   "id": "d0d97156-15f8-4472-9597-505c60980746",
   "metadata": {
    "execution": {
     "iopub.execute_input": "2025-07-07T18:47:02.587480Z",
     "iopub.status.busy": "2025-07-07T18:47:02.587187Z",
     "iopub.status.idle": "2025-07-07T18:47:02.601356Z",
     "shell.execute_reply": "2025-07-07T18:47:02.599794Z",
     "shell.execute_reply.started": "2025-07-07T18:47:02.587450Z"
    }
   },
   "outputs": [],
   "source": [
    "# define the estimator\n",
    "linear=sagemaker.estimator.Estimator(container,role,instance_count=1,instance_type=\"ml.c4.xlarge\",\n",
    "                                     output_path=output_location,sagemaker_session=sagemaker_session)"
   ]
  },
  {
   "cell_type": "code",
   "execution_count": 22,
   "id": "0a5897d5-864d-496f-8ac4-528e812050d1",
   "metadata": {
    "execution": {
     "iopub.execute_input": "2025-07-07T18:47:04.734536Z",
     "iopub.status.busy": "2025-07-07T18:47:04.734170Z",
     "iopub.status.idle": "2025-07-07T18:47:04.738303Z",
     "shell.execute_reply": "2025-07-07T18:47:04.737385Z",
     "shell.execute_reply.started": "2025-07-07T18:47:04.734511Z"
    }
   },
   "outputs": [],
   "source": [
    "# setting up the hyperparameters\n",
    "linear.set_hyperparameters(feature_dim=1,predictor_type=\"regressor\",mini_batch_size=4,epochs=5,\n",
    "                          num_models=32,loss=\"absolute_loss\")"
   ]
  },
  {
   "cell_type": "code",
   "execution_count": 23,
   "id": "a92299c4-c11b-4f87-b703-812f843c8ec5",
   "metadata": {
    "execution": {
     "iopub.execute_input": "2025-07-07T18:47:06.674240Z",
     "iopub.status.busy": "2025-07-07T18:47:06.673582Z",
     "iopub.status.idle": "2025-07-07T18:50:53.865740Z",
     "shell.execute_reply": "2025-07-07T18:50:53.864916Z",
     "shell.execute_reply.started": "2025-07-07T18:47:06.674209Z"
    }
   },
   "outputs": [
    {
     "name": "stderr",
     "output_type": "stream",
     "text": [
      "INFO:sagemaker.telemetry.telemetry_logging:SageMaker Python SDK will collect telemetry to help us better understand our user's needs, diagnose issues, and deliver additional features.\n",
      "To opt out of telemetry, please disable via TelemetryOptOut parameter in SDK defaults config. For more information, refer to https://sagemaker.readthedocs.io/en/stable/overview.html#configuring-and-using-defaults-with-the-sagemaker-python-sdk.\n",
      "INFO:sagemaker:Creating training-job with name: linear-learner-2025-07-07-18-47-06-676\n"
     ]
    },
    {
     "name": "stdout",
     "output_type": "stream",
     "text": [
      "2025-07-07 18:47:11 Starting - Starting the training job...\n",
      "2025-07-07 18:47:25 Starting - Preparing the instances for training...\n",
      "2025-07-07 18:48:09 Downloading - Downloading the training image............\n",
      "2025-07-07 18:50:10 Training - Training image download completed. Training in progress.\n",
      "2025-07-07 18:50:10 Uploading - Uploading generated training model\u001b[34mDocker entrypoint called with argument(s): train\u001b[0m\n",
      "\u001b[34mRunning default environment configuration script\u001b[0m\n",
      "\u001b[34m[07/07/2025 18:50:02 INFO 139947078211392] Reading default configuration from /opt/amazon/lib/python3.8/site-packages/algorithm/resources/default-input.json: {'mini_batch_size': '1000', 'epochs': '15', 'feature_dim': 'auto', 'use_bias': 'true', 'binary_classifier_model_selection_criteria': 'accuracy', 'f_beta': '1.0', 'target_recall': '0.8', 'target_precision': '0.8', 'num_models': 'auto', 'num_calibration_samples': '10000000', 'init_method': 'uniform', 'init_scale': '0.07', 'init_sigma': '0.01', 'init_bias': '0.0', 'optimizer': 'auto', 'loss': 'auto', 'margin': '1.0', 'quantile': '0.5', 'loss_insensitivity': '0.01', 'huber_delta': '1.0', 'num_classes': '1', 'accuracy_top_k': '3', 'wd': 'auto', 'l1': 'auto', 'momentum': 'auto', 'learning_rate': 'auto', 'beta_1': 'auto', 'beta_2': 'auto', 'bias_lr_mult': 'auto', 'bias_wd_mult': 'auto', 'use_lr_scheduler': 'true', 'lr_scheduler_step': 'auto', 'lr_scheduler_factor': 'auto', 'lr_scheduler_minimum_lr': 'auto', 'positive_example_weight_mult': '1.0', 'balance_multiclass_weights': 'false', 'normalize_data': 'true', 'normalize_label': 'auto', 'unbias_data': 'auto', 'unbias_label': 'auto', 'num_point_for_scaler': '10000', '_kvstore': 'auto', '_num_gpus': 'auto', '_num_kv_servers': 'auto', '_log_level': 'info', '_tuning_objective_metric': '', 'early_stopping_patience': '3', 'early_stopping_tolerance': '0.001', '_enable_profiler': 'false'}\u001b[0m\n",
      "\u001b[34m[07/07/2025 18:50:02 INFO 139947078211392] Merging with provided configuration from /opt/ml/input/config/hyperparameters.json: {'epochs': '5', 'feature_dim': '1', 'loss': 'absolute_loss', 'mini_batch_size': '4', 'num_models': '32', 'predictor_type': 'regressor'}\u001b[0m\n",
      "\u001b[34m[07/07/2025 18:50:02 INFO 139947078211392] Final configuration: {'mini_batch_size': '4', 'epochs': '5', 'feature_dim': '1', 'use_bias': 'true', 'binary_classifier_model_selection_criteria': 'accuracy', 'f_beta': '1.0', 'target_recall': '0.8', 'target_precision': '0.8', 'num_models': '32', 'num_calibration_samples': '10000000', 'init_method': 'uniform', 'init_scale': '0.07', 'init_sigma': '0.01', 'init_bias': '0.0', 'optimizer': 'auto', 'loss': 'absolute_loss', 'margin': '1.0', 'quantile': '0.5', 'loss_insensitivity': '0.01', 'huber_delta': '1.0', 'num_classes': '1', 'accuracy_top_k': '3', 'wd': 'auto', 'l1': 'auto', 'momentum': 'auto', 'learning_rate': 'auto', 'beta_1': 'auto', 'beta_2': 'auto', 'bias_lr_mult': 'auto', 'bias_wd_mult': 'auto', 'use_lr_scheduler': 'true', 'lr_scheduler_step': 'auto', 'lr_scheduler_factor': 'auto', 'lr_scheduler_minimum_lr': 'auto', 'positive_example_weight_mult': '1.0', 'balance_multiclass_weights': 'false', 'normalize_data': 'true', 'normalize_label': 'auto', 'unbias_data': 'auto', 'unbias_label': 'auto', 'num_point_for_scaler': '10000', '_kvstore': 'auto', '_num_gpus': 'auto', '_num_kv_servers': 'auto', '_log_level': 'info', '_tuning_objective_metric': '', 'early_stopping_patience': '3', 'early_stopping_tolerance': '0.001', '_enable_profiler': 'false', 'predictor_type': 'regressor'}\u001b[0m\n",
      "\u001b[34m/opt/amazon/lib/python3.8/site-packages/mxnet/model.py:97: SyntaxWarning: \"is\" with a literal. Did you mean \"==\"?\n",
      "  if num_device is 1 and 'dist' not in kvstore:\u001b[0m\n",
      "\u001b[34m/opt/amazon/lib/python3.8/site-packages/scipy/optimize/_shgo.py:495: SyntaxWarning: \"is\" with a literal. Did you mean \"==\"?\n",
      "  if cons['type'] is 'ineq':\u001b[0m\n",
      "\u001b[34m/opt/amazon/lib/python3.8/site-packages/scipy/optimize/_shgo.py:743: SyntaxWarning: \"is not\" with a literal. Did you mean \"!=\"?\n",
      "  if len(self.X_min) is not 0:\u001b[0m\n",
      "\u001b[34m[07/07/2025 18:50:04 WARNING 139947078211392] Loggers have already been setup.\u001b[0m\n",
      "\u001b[34m[07/07/2025 18:50:04 INFO 139947078211392] Final configuration: {'mini_batch_size': '4', 'epochs': '5', 'feature_dim': '1', 'use_bias': 'true', 'binary_classifier_model_selection_criteria': 'accuracy', 'f_beta': '1.0', 'target_recall': '0.8', 'target_precision': '0.8', 'num_models': '32', 'num_calibration_samples': '10000000', 'init_method': 'uniform', 'init_scale': '0.07', 'init_sigma': '0.01', 'init_bias': '0.0', 'optimizer': 'auto', 'loss': 'absolute_loss', 'margin': '1.0', 'quantile': '0.5', 'loss_insensitivity': '0.01', 'huber_delta': '1.0', 'num_classes': '1', 'accuracy_top_k': '3', 'wd': 'auto', 'l1': 'auto', 'momentum': 'auto', 'learning_rate': 'auto', 'beta_1': 'auto', 'beta_2': 'auto', 'bias_lr_mult': 'auto', 'bias_wd_mult': 'auto', 'use_lr_scheduler': 'true', 'lr_scheduler_step': 'auto', 'lr_scheduler_factor': 'auto', 'lr_scheduler_minimum_lr': 'auto', 'positive_example_weight_mult': '1.0', 'balance_multiclass_weights': 'false', 'normalize_data': 'true', 'normalize_label': 'auto', 'unbias_data': 'auto', 'unbias_label': 'auto', 'num_point_for_scaler': '10000', '_kvstore': 'auto', '_num_gpus': 'auto', '_num_kv_servers': 'auto', '_log_level': 'info', '_tuning_objective_metric': '', 'early_stopping_patience': '3', 'early_stopping_tolerance': '0.001', '_enable_profiler': 'false', 'predictor_type': 'regressor'}\u001b[0m\n",
      "\u001b[34m[07/07/2025 18:50:04 WARNING 139947078211392] Loggers have already been setup.\u001b[0m\n",
      "\u001b[34mProcess 7 is a worker.\u001b[0m\n",
      "\u001b[34m[07/07/2025 18:50:04 INFO 139947078211392] Using default worker.\u001b[0m\n",
      "\u001b[34m[07/07/2025 18:50:04 INFO 139947078211392] Checkpoint loading and saving are disabled.\u001b[0m\n",
      "\u001b[34m[2025-07-07 18:50:04.802] [tensorio] [info] epoch_stats={\"data_pipeline\": \"/opt/ml/input/data/train\", \"epoch\": 0, \"duration\": 12, \"num_examples\": 1, \"num_bytes\": 192}\u001b[0m\n",
      "\u001b[34m[07/07/2025 18:50:04 INFO 139947078211392] Create Store: local\u001b[0m\n",
      "\u001b[34m[2025-07-07 18:50:04.814] [tensorio] [info] epoch_stats={\"data_pipeline\": \"/opt/ml/input/data/train\", \"epoch\": 1, \"duration\": 10, \"num_examples\": 2, \"num_bytes\": 240}\u001b[0m\n",
      "\u001b[34m[07/07/2025 18:50:04 INFO 139947078211392] Scaler algorithm parameters\n",
      " <algorithm.scaler.ScalerAlgorithmStable object at 0x7f47672bc520>\u001b[0m\n",
      "\u001b[34m[07/07/2025 18:50:04 INFO 139947078211392] Scaling model computed with parameters:\n",
      " {'stdev_label': \u001b[0m\n",
      "\u001b[34m[17.219175]\u001b[0m\n",
      "\u001b[34m<NDArray 1 @cpu(0)>, 'stdev_weight': \u001b[0m\n",
      "\u001b[34m[1.29301]\u001b[0m\n",
      "\u001b[34m<NDArray 1 @cpu(0)>, 'mean_label': \u001b[0m\n",
      "\u001b[34m[44.]\u001b[0m\n",
      "\u001b[34m<NDArray 1 @cpu(0)>, 'mean_weight': \u001b[0m\n",
      "\u001b[34m[4.275]\u001b[0m\n",
      "\u001b[34m<NDArray 1 @cpu(0)>}\u001b[0m\n",
      "\u001b[34m/opt/amazon/python3.8/lib/python3.8/subprocess.py:848: RuntimeWarning: line buffering (buffering=1) isn't supported in binary mode, the default buffer size will be used\n",
      "  self.stdout = io.open(c2pread, 'rb', bufsize)\u001b[0m\n",
      "\u001b[34m[07/07/2025 18:50:04 INFO 139947078211392] nvidia-smi: took 0.032 seconds to run.\u001b[0m\n",
      "\u001b[34m[07/07/2025 18:50:04 INFO 139947078211392] nvidia-smi identified 0 GPUs.\u001b[0m\n",
      "\u001b[34m[07/07/2025 18:50:04 INFO 139947078211392] Number of GPUs being used: 0\u001b[0m\n",
      "\u001b[34m#metrics {\"StartTime\": 1751914204.9035003, \"EndTime\": 1751914204.9035313, \"Dimensions\": {\"Algorithm\": \"Linear Learner\", \"Host\": \"algo-1\", \"Operation\": \"training\", \"Meta\": \"init_train_data_iter\"}, \"Metrics\": {\"Total Records Seen\": {\"sum\": 9.0, \"count\": 1, \"min\": 9, \"max\": 9}, \"Total Batches Seen\": {\"sum\": 3.0, \"count\": 1, \"min\": 3, \"max\": 3}, \"Max Records Seen Between Resets\": {\"sum\": 5.0, \"count\": 1, \"min\": 5, \"max\": 5}, \"Max Batches Seen Between Resets\": {\"sum\": 2.0, \"count\": 1, \"min\": 2, \"max\": 2}, \"Reset Count\": {\"sum\": 2.0, \"count\": 1, \"min\": 2, \"max\": 2}, \"Number of Records Since Last Reset\": {\"sum\": 0.0, \"count\": 1, \"min\": 0, \"max\": 0}, \"Number of Batches Since Last Reset\": {\"sum\": 0.0, \"count\": 1, \"min\": 0, \"max\": 0}}}\u001b[0m\n",
      "\u001b[34m[2025-07-07 18:50:04.926] [tensorio] [info] epoch_stats={\"data_pipeline\": \"/opt/ml/input/data/train\", \"epoch\": 4, \"duration\": 22, \"num_examples\": 2, \"num_bytes\": 240}\u001b[0m\n",
      "\u001b[34m#metrics {\"StartTime\": 1751914204.9269085, \"EndTime\": 1751914204.9269755, \"Dimensions\": {\"Algorithm\": \"Linear Learner\", \"Host\": \"algo-1\", \"Operation\": \"training\", \"epoch\": 0, \"model\": 0}, \"Metrics\": {\"train_absolute_loss_objective\": {\"sum\": 0.9520238637924194, \"count\": 1, \"min\": 0.9520238637924194, \"max\": 0.9520238637924194}}}\u001b[0m\n",
      "\u001b[34m#metrics {\"StartTime\": 1751914204.9271002, \"EndTime\": 1751914204.927112, \"Dimensions\": {\"Algorithm\": \"Linear Learner\", \"Host\": \"algo-1\", \"Operation\": \"training\", \"epoch\": 0, \"model\": 1}, \"Metrics\": {\"train_absolute_loss_objective\": {\"sum\": 0.9729433059692383, \"count\": 1, \"min\": 0.9729433059692383, \"max\": 0.9729433059692383}}}\u001b[0m\n",
      "\u001b[34m#metrics {\"StartTime\": 1751914204.927161, \"EndTime\": 1751914204.9271684, \"Dimensions\": {\"Algorithm\": \"Linear Learner\", \"Host\": \"algo-1\", \"Operation\": \"training\", \"epoch\": 0, \"model\": 2}, \"Metrics\": {\"train_absolute_loss_objective\": {\"sum\": 0.9545579552650452, \"count\": 1, \"min\": 0.9545579552650452, \"max\": 0.9545579552650452}}}\u001b[0m\n",
      "\u001b[34m#metrics {\"StartTime\": 1751914204.9272137, \"EndTime\": 1751914204.9272199, \"Dimensions\": {\"Algorithm\": \"Linear Learner\", \"Host\": \"algo-1\", \"Operation\": \"training\", \"epoch\": 0, \"model\": 3}, \"Metrics\": {\"train_absolute_loss_objective\": {\"sum\": 0.9718742370605469, \"count\": 1, \"min\": 0.9718742370605469, \"max\": 0.9718742370605469}}}\u001b[0m\n",
      "\u001b[34m#metrics {\"StartTime\": 1751914204.9272459, \"EndTime\": 1751914204.9272518, \"Dimensions\": {\"Algorithm\": \"Linear Learner\", \"Host\": \"algo-1\", \"Operation\": \"training\", \"epoch\": 0, \"model\": 4}, \"Metrics\": {\"train_absolute_loss_objective\": {\"sum\": 0.90408855676651, \"count\": 1, \"min\": 0.90408855676651, \"max\": 0.90408855676651}}}\u001b[0m\n",
      "\u001b[34m#metrics {\"StartTime\": 1751914204.927275, \"EndTime\": 1751914204.927281, \"Dimensions\": {\"Algorithm\": \"Linear Learner\", \"Host\": \"algo-1\", \"Operation\": \"training\", \"epoch\": 0, \"model\": 5}, \"Metrics\": {\"train_absolute_loss_objective\": {\"sum\": 0.9154772758483887, \"count\": 1, \"min\": 0.9154772758483887, \"max\": 0.9154772758483887}}}\u001b[0m\n",
      "\u001b[34m#metrics {\"StartTime\": 1751914204.9273038, \"EndTime\": 1751914204.9273093, \"Dimensions\": {\"Algorithm\": \"Linear Learner\", \"Host\": \"algo-1\", \"Operation\": \"training\", \"epoch\": 0, \"model\": 6}, \"Metrics\": {\"train_absolute_loss_objective\": {\"sum\": 1.012807846069336, \"count\": 1, \"min\": 1.012807846069336, \"max\": 1.012807846069336}}}\u001b[0m\n",
      "\u001b[34m#metrics {\"StartTime\": 1751914204.9273276, \"EndTime\": 1751914204.927333, \"Dimensions\": {\"Algorithm\": \"Linear Learner\", \"Host\": \"algo-1\", \"Operation\": \"training\", \"epoch\": 0, \"model\": 7}, \"Metrics\": {\"train_absolute_loss_objective\": {\"sum\": 0.9789208769798279, \"count\": 1, \"min\": 0.9789208769798279, \"max\": 0.9789208769798279}}}\u001b[0m\n",
      "\u001b[34m#metrics {\"StartTime\": 1751914204.927356, \"EndTime\": 1751914204.9273612, \"Dimensions\": {\"Algorithm\": \"Linear Learner\", \"Host\": \"algo-1\", \"Operation\": \"training\", \"epoch\": 0, \"model\": 8}, \"Metrics\": {\"train_absolute_loss_objective\": {\"sum\": 1.0107604265213013, \"count\": 1, \"min\": 1.0107604265213013, \"max\": 1.0107604265213013}}}\u001b[0m\n",
      "\u001b[34m#metrics {\"StartTime\": 1751914204.9273841, \"EndTime\": 1751914204.9273896, \"Dimensions\": {\"Algorithm\": \"Linear Learner\", \"Host\": \"algo-1\", \"Operation\": \"training\", \"epoch\": 0, \"model\": 9}, \"Metrics\": {\"train_absolute_loss_objective\": {\"sum\": 0.9393832683563232, \"count\": 1, \"min\": 0.9393832683563232, \"max\": 0.9393832683563232}}}\u001b[0m\n",
      "\u001b[34m#metrics {\"StartTime\": 1751914204.927412, \"EndTime\": 1751914204.9274173, \"Dimensions\": {\"Algorithm\": \"Linear Learner\", \"Host\": \"algo-1\", \"Operation\": \"training\", \"epoch\": 0, \"model\": 10}, \"Metrics\": {\"train_absolute_loss_objective\": {\"sum\": 0.9464221000671387, \"count\": 1, \"min\": 0.9464221000671387, \"max\": 0.9464221000671387}}}\u001b[0m\n",
      "\u001b[34m#metrics {\"StartTime\": 1751914204.9274359, \"EndTime\": 1751914204.9274411, \"Dimensions\": {\"Algorithm\": \"Linear Learner\", \"Host\": \"algo-1\", \"Operation\": \"training\", \"epoch\": 0, \"model\": 11}, \"Metrics\": {\"train_absolute_loss_objective\": {\"sum\": 0.9308570623397827, \"count\": 1, \"min\": 0.9308570623397827, \"max\": 0.9308570623397827}}}\u001b[0m\n",
      "\u001b[34m#metrics {\"StartTime\": 1751914204.9274623, \"EndTime\": 1751914204.9274678, \"Dimensions\": {\"Algorithm\": \"Linear Learner\", \"Host\": \"algo-1\", \"Operation\": \"training\", \"epoch\": 0, \"model\": 12}, \"Metrics\": {\"train_absolute_loss_objective\": {\"sum\": 0.9144356846809387, \"count\": 1, \"min\": 0.9144356846809387, \"max\": 0.9144356846809387}}}\u001b[0m\n",
      "\u001b[34m#metrics {\"StartTime\": 1751914204.92752, \"EndTime\": 1751914204.9275277, \"Dimensions\": {\"Algorithm\": \"Linear Learner\", \"Host\": \"algo-1\", \"Operation\": \"training\", \"epoch\": 0, \"model\": 13}, \"Metrics\": {\"train_absolute_loss_objective\": {\"sum\": 0.9451602101325989, \"count\": 1, \"min\": 0.9451602101325989, \"max\": 0.9451602101325989}}}\u001b[0m\n",
      "\u001b[34m#metrics {\"StartTime\": 1751914204.9275525, \"EndTime\": 1751914204.9275584, \"Dimensions\": {\"Algorithm\": \"Linear Learner\", \"Host\": \"algo-1\", \"Operation\": \"training\", \"epoch\": 0, \"model\": 14}, \"Metrics\": {\"train_absolute_loss_objective\": {\"sum\": 0.9126952290534973, \"count\": 1, \"min\": 0.9126952290534973, \"max\": 0.9126952290534973}}}\u001b[0m\n",
      "\u001b[34m#metrics {\"StartTime\": 1751914204.9275768, \"EndTime\": 1751914204.927582, \"Dimensions\": {\"Algorithm\": \"Linear Learner\", \"Host\": \"algo-1\", \"Operation\": \"training\", \"epoch\": 0, \"model\": 15}, \"Metrics\": {\"train_absolute_loss_objective\": {\"sum\": 0.9525238871574402, \"count\": 1, \"min\": 0.9525238871574402, \"max\": 0.9525238871574402}}}\u001b[0m\n",
      "\u001b[34m#metrics {\"StartTime\": 1751914204.9276001, \"EndTime\": 1751914204.9276052, \"Dimensions\": {\"Algorithm\": \"Linear Learner\", \"Host\": \"algo-1\", \"Operation\": \"training\", \"epoch\": 0, \"model\": 16}, \"Metrics\": {\"train_absolute_loss_objective\": {\"sum\": 0.9140557646751404, \"count\": 1, \"min\": 0.9140557646751404, \"max\": 0.9140557646751404}}}\u001b[0m\n",
      "\u001b[34m#metrics {\"StartTime\": 1751914204.9276233, \"EndTime\": 1751914204.9276283, \"Dimensions\": {\"Algorithm\": \"Linear Learner\", \"Host\": \"algo-1\", \"Operation\": \"training\", \"epoch\": 0, \"model\": 17}, \"Metrics\": {\"train_absolute_loss_objective\": {\"sum\": 0.9679468870162964, \"count\": 1, \"min\": 0.9679468870162964, \"max\": 0.9679468870162964}}}\u001b[0m\n",
      "\u001b[34m#metrics {\"StartTime\": 1751914204.9276469, \"EndTime\": 1751914204.9276521, \"Dimensions\": {\"Algorithm\": \"Linear Learner\", \"Host\": \"algo-1\", \"Operation\": \"training\", \"epoch\": 0, \"model\": 18}, \"Metrics\": {\"train_absolute_loss_objective\": {\"sum\": 0.9425139427185059, \"count\": 1, \"min\": 0.9425139427185059, \"max\": 0.9425139427185059}}}\u001b[0m\n",
      "\u001b[34m#metrics {\"StartTime\": 1751914204.9276748, \"EndTime\": 1751914204.9276803, \"Dimensions\": {\"Algorithm\": \"Linear Learner\", \"Host\": \"algo-1\", \"Operation\": \"training\", \"epoch\": 0, \"model\": 19}, \"Metrics\": {\"train_absolute_loss_objective\": {\"sum\": 0.9396730065345764, \"count\": 1, \"min\": 0.9396730065345764, \"max\": 0.9396730065345764}}}\u001b[0m\n",
      "\u001b[34m#metrics {\"StartTime\": 1751914204.9277232, \"EndTime\": 1751914204.927729, \"Dimensions\": {\"Algorithm\": \"Linear Learner\", \"Host\": \"algo-1\", \"Operation\": \"training\", \"epoch\": 0, \"model\": 20}, \"Metrics\": {\"train_absolute_loss_objective\": {\"sum\": 0.966174304485321, \"count\": 1, \"min\": 0.966174304485321, \"max\": 0.966174304485321}}}\u001b[0m\n",
      "\u001b[34m#metrics {\"StartTime\": 1751914204.9277668, \"EndTime\": 1751914204.9277728, \"Dimensions\": {\"Algorithm\": \"Linear Learner\", \"Host\": \"algo-1\", \"Operation\": \"training\", \"epoch\": 0, \"model\": 21}, \"Metrics\": {\"train_absolute_loss_objective\": {\"sum\": 0.9839922189712524, \"count\": 1, \"min\": 0.9839922189712524, \"max\": 0.9839922189712524}}}\u001b[0m\n",
      "\u001b[34m#metrics {\"StartTime\": 1751914204.92781, \"EndTime\": 1751914204.9278162, \"Dimensions\": {\"Algorithm\": \"Linear Learner\", \"Host\": \"algo-1\", \"Operation\": \"training\", \"epoch\": 0, \"model\": 22}, \"Metrics\": {\"train_absolute_loss_objective\": {\"sum\": 0.9083916544914246, \"count\": 1, \"min\": 0.9083916544914246, \"max\": 0.9083916544914246}}}\u001b[0m\n",
      "\u001b[34m#metrics {\"StartTime\": 1751914204.927853, \"EndTime\": 1751914204.9278588, \"Dimensions\": {\"Algorithm\": \"Linear Learner\", \"Host\": \"algo-1\", \"Operation\": \"training\", \"epoch\": 0, \"model\": 23}, \"Metrics\": {\"train_absolute_loss_objective\": {\"sum\": 1.0146300792694092, \"count\": 1, \"min\": 1.0146300792694092, \"max\": 1.0146300792694092}}}\u001b[0m\n",
      "\u001b[34m#metrics {\"StartTime\": 1751914204.9279072, \"EndTime\": 1751914204.927929, \"Dimensions\": {\"Algorithm\": \"Linear Learner\", \"Host\": \"algo-1\", \"Operation\": \"training\", \"epoch\": 0, \"model\": 24}, \"Metrics\": {\"train_absolute_loss_objective\": {\"sum\": 0.8992456793785095, \"count\": 1, \"min\": 0.8992456793785095, \"max\": 0.8992456793785095}}}\u001b[0m\n",
      "\u001b[34m#metrics {\"StartTime\": 1751914204.9279711, \"EndTime\": 1751914204.9279773, \"Dimensions\": {\"Algorithm\": \"Linear Learner\", \"Host\": \"algo-1\", \"Operation\": \"training\", \"epoch\": 0, \"model\": 25}, \"Metrics\": {\"train_absolute_loss_objective\": {\"sum\": 0.9871572852134705, \"count\": 1, \"min\": 0.9871572852134705, \"max\": 0.9871572852134705}}}\u001b[0m\n",
      "\u001b[34m#metrics {\"StartTime\": 1751914204.9280157, \"EndTime\": 1751914204.9280214, \"Dimensions\": {\"Algorithm\": \"Linear Learner\", \"Host\": \"algo-1\", \"Operation\": \"training\", \"epoch\": 0, \"model\": 26}, \"Metrics\": {\"train_absolute_loss_objective\": {\"sum\": 0.9730628728866577, \"count\": 1, \"min\": 0.9730628728866577, \"max\": 0.9730628728866577}}}\u001b[0m\n",
      "\u001b[34m#metrics {\"StartTime\": 1751914204.9280689, \"EndTime\": 1751914204.9280763, \"Dimensions\": {\"Algorithm\": \"Linear Learner\", \"Host\": \"algo-1\", \"Operation\": \"training\", \"epoch\": 0, \"model\": 27}, \"Metrics\": {\"train_absolute_loss_objective\": {\"sum\": 0.9610755443572998, \"count\": 1, \"min\": 0.9610755443572998, \"max\": 0.9610755443572998}}}\u001b[0m\n",
      "\u001b[34m#metrics {\"StartTime\": 1751914204.9281197, \"EndTime\": 1751914204.9281254, \"Dimensions\": {\"Algorithm\": \"Linear Learner\", \"Host\": \"algo-1\", \"Operation\": \"training\", \"epoch\": 0, \"model\": 28}, \"Metrics\": {\"train_absolute_loss_objective\": {\"sum\": 0.9211200475692749, \"count\": 1, \"min\": 0.9211200475692749, \"max\": 0.9211200475692749}}}\u001b[0m\n",
      "\u001b[34m#metrics {\"StartTime\": 1751914204.9281662, \"EndTime\": 1751914204.928172, \"Dimensions\": {\"Algorithm\": \"Linear Learner\", \"Host\": \"algo-1\", \"Operation\": \"training\", \"epoch\": 0, \"model\": 29}, \"Metrics\": {\"train_absolute_loss_objective\": {\"sum\": 0.918519139289856, \"count\": 1, \"min\": 0.918519139289856, \"max\": 0.918519139289856}}}\u001b[0m\n",
      "\u001b[34m#metrics {\"StartTime\": 1751914204.9281962, \"EndTime\": 1751914204.9282014, \"Dimensions\": {\"Algorithm\": \"Linear Learner\", \"Host\": \"algo-1\", \"Operation\": \"training\", \"epoch\": 0, \"model\": 30}, \"Metrics\": {\"train_absolute_loss_objective\": {\"sum\": 0.9607813954353333, \"count\": 1, \"min\": 0.9607813954353333, \"max\": 0.9607813954353333}}}\u001b[0m\n",
      "\u001b[34m#metrics {\"StartTime\": 1751914204.9282446, \"EndTime\": 1751914204.92825, \"Dimensions\": {\"Algorithm\": \"Linear Learner\", \"Host\": \"algo-1\", \"Operation\": \"training\", \"epoch\": 0, \"model\": 31}, \"Metrics\": {\"train_absolute_loss_objective\": {\"sum\": 0.9495772123336792, \"count\": 1, \"min\": 0.9495772123336792, \"max\": 0.9495772123336792}}}\u001b[0m\n",
      "\u001b[34m[07/07/2025 18:50:04 INFO 139947078211392] #quality_metric: host=algo-1, epoch=0, train absolute_loss_objective <loss>=0.9520238637924194\u001b[0m\n",
      "\u001b[34m[07/07/2025 18:50:04 INFO 139947078211392] #early_stopping_criteria_metric: host=algo-1, epoch=0, criteria=absolute_loss_objective, value=0.8992456793785095\u001b[0m\n",
      "\u001b[34m[07/07/2025 18:50:04 INFO 139947078211392] Epoch 0: Loss improved. Updating best model\u001b[0m\n",
      "\u001b[34m[07/07/2025 18:50:04 INFO 139947078211392] Saving model for epoch: 0\u001b[0m\n",
      "\u001b[34m[07/07/2025 18:50:04 INFO 139947078211392] Saved checkpoint to \"/tmp/tmpmjcoeocb/mx-mod-0000.params\"\u001b[0m\n",
      "\u001b[34m[07/07/2025 18:50:04 INFO 139947078211392] #progress_metric: host=algo-1, completed 20.0 % of epochs\u001b[0m\n",
      "\u001b[34m#metrics {\"StartTime\": 1751914204.903772, \"EndTime\": 1751914204.93598, \"Dimensions\": {\"Algorithm\": \"Linear Learner\", \"Host\": \"algo-1\", \"Operation\": \"training\", \"epoch\": 0, \"Meta\": \"training_data_iter\"}, \"Metrics\": {\"Total Records Seen\": {\"sum\": 14.0, \"count\": 1, \"min\": 14, \"max\": 14}, \"Total Batches Seen\": {\"sum\": 5.0, \"count\": 1, \"min\": 5, \"max\": 5}, \"Max Records Seen Between Resets\": {\"sum\": 5.0, \"count\": 1, \"min\": 5, \"max\": 5}, \"Max Batches Seen Between Resets\": {\"sum\": 2.0, \"count\": 1, \"min\": 2, \"max\": 2}, \"Reset Count\": {\"sum\": 3.0, \"count\": 1, \"min\": 3, \"max\": 3}, \"Number of Records Since Last Reset\": {\"sum\": 5.0, \"count\": 1, \"min\": 5, \"max\": 5}, \"Number of Batches Since Last Reset\": {\"sum\": 2.0, \"count\": 1, \"min\": 2, \"max\": 2}}}\u001b[0m\n",
      "\u001b[34m[07/07/2025 18:50:04 INFO 139947078211392] #throughput_metric: host=algo-1, train throughput=154.59110410001622 records/second\u001b[0m\n",
      "\u001b[34m[2025-07-07 18:50:04.950] [tensorio] [info] epoch_stats={\"data_pipeline\": \"/opt/ml/input/data/train\", \"epoch\": 6, \"duration\": 13, \"num_examples\": 2, \"num_bytes\": 240}\u001b[0m\n",
      "\u001b[34m#metrics {\"StartTime\": 1751914204.9503334, \"EndTime\": 1751914204.9503944, \"Dimensions\": {\"Algorithm\": \"Linear Learner\", \"Host\": \"algo-1\", \"Operation\": \"training\", \"epoch\": 1, \"model\": 0}, \"Metrics\": {\"train_absolute_loss_objective\": {\"sum\": 0.9474802017211914, \"count\": 1, \"min\": 0.9474802017211914, \"max\": 0.9474802017211914}}}\u001b[0m\n",
      "\u001b[34m#metrics {\"StartTime\": 1751914204.9504814, \"EndTime\": 1751914204.9504907, \"Dimensions\": {\"Algorithm\": \"Linear Learner\", \"Host\": \"algo-1\", \"Operation\": \"training\", \"epoch\": 1, \"model\": 1}, \"Metrics\": {\"train_absolute_loss_objective\": {\"sum\": 0.9683995842933655, \"count\": 1, \"min\": 0.9683995842933655, \"max\": 0.9683995842933655}}}\u001b[0m\n",
      "\u001b[34m#metrics {\"StartTime\": 1751914204.950514, \"EndTime\": 1751914204.95052, \"Dimensions\": {\"Algorithm\": \"Linear Learner\", \"Host\": \"algo-1\", \"Operation\": \"training\", \"epoch\": 1, \"model\": 2}, \"Metrics\": {\"train_absolute_loss_objective\": {\"sum\": 0.9500142335891724, \"count\": 1, \"min\": 0.9500142335891724, \"max\": 0.9500142335891724}}}\u001b[0m\n",
      "\u001b[34m#metrics {\"StartTime\": 1751914204.9505403, \"EndTime\": 1751914204.9505455, \"Dimensions\": {\"Algorithm\": \"Linear Learner\", \"Host\": \"algo-1\", \"Operation\": \"training\", \"epoch\": 1, \"model\": 3}, \"Metrics\": {\"train_absolute_loss_objective\": {\"sum\": 0.9673305153846741, \"count\": 1, \"min\": 0.9673305153846741, \"max\": 0.9673305153846741}}}\u001b[0m\n",
      "\u001b[34m#metrics {\"StartTime\": 1751914204.9505646, \"EndTime\": 1751914204.9505696, \"Dimensions\": {\"Algorithm\": \"Linear Learner\", \"Host\": \"algo-1\", \"Operation\": \"training\", \"epoch\": 1, \"model\": 4}, \"Metrics\": {\"train_absolute_loss_objective\": {\"sum\": 0.8132147192955017, \"count\": 1, \"min\": 0.8132147192955017, \"max\": 0.8132147192955017}}}\u001b[0m\n",
      "\u001b[34m#metrics {\"StartTime\": 1751914204.9505882, \"EndTime\": 1751914204.9505932, \"Dimensions\": {\"Algorithm\": \"Linear Learner\", \"Host\": \"algo-1\", \"Operation\": \"training\", \"epoch\": 1, \"model\": 5}, \"Metrics\": {\"train_absolute_loss_objective\": {\"sum\": 0.8246034383773804, \"count\": 1, \"min\": 0.8246034383773804, \"max\": 0.8246034383773804}}}\u001b[0m\n",
      "\u001b[34m#metrics {\"StartTime\": 1751914204.9506114, \"EndTime\": 1751914204.9506166, \"Dimensions\": {\"Algorithm\": \"Linear Learner\", \"Host\": \"algo-1\", \"Operation\": \"training\", \"epoch\": 1, \"model\": 6}, \"Metrics\": {\"train_absolute_loss_objective\": {\"sum\": 0.9219341278076172, \"count\": 1, \"min\": 0.9219341278076172, \"max\": 0.9219341278076172}}}\u001b[0m\n",
      "\u001b[34m#metrics {\"StartTime\": 1751914204.9506347, \"EndTime\": 1751914204.95064, \"Dimensions\": {\"Algorithm\": \"Linear Learner\", \"Host\": \"algo-1\", \"Operation\": \"training\", \"epoch\": 1, \"model\": 7}, \"Metrics\": {\"train_absolute_loss_objective\": {\"sum\": 0.8880470991134644, \"count\": 1, \"min\": 0.8880470991134644, \"max\": 0.8880470991134644}}}\u001b[0m\n",
      "\u001b[34m#metrics {\"StartTime\": 1751914204.9506578, \"EndTime\": 1751914204.9506629, \"Dimensions\": {\"Algorithm\": \"Linear Learner\", \"Host\": \"algo-1\", \"Operation\": \"training\", \"epoch\": 1, \"model\": 8}, \"Metrics\": {\"train_absolute_loss_objective\": {\"sum\": 1.0062167644500732, \"count\": 1, \"min\": 1.0062167644500732, \"max\": 1.0062167644500732}}}\u001b[0m\n",
      "\u001b[34m#metrics {\"StartTime\": 1751914204.9506907, \"EndTime\": 1751914204.950697, \"Dimensions\": {\"Algorithm\": \"Linear Learner\", \"Host\": \"algo-1\", \"Operation\": \"training\", \"epoch\": 1, \"model\": 9}, \"Metrics\": {\"train_absolute_loss_objective\": {\"sum\": 0.9348395466804504, \"count\": 1, \"min\": 0.9348395466804504, \"max\": 0.9348395466804504}}}\u001b[0m\n",
      "\u001b[34m#metrics {\"StartTime\": 1751914204.950716, \"EndTime\": 1751914204.9507213, \"Dimensions\": {\"Algorithm\": \"Linear Learner\", \"Host\": \"algo-1\", \"Operation\": \"training\", \"epoch\": 1, \"model\": 10}, \"Metrics\": {\"train_absolute_loss_objective\": {\"sum\": 0.9418784379959106, \"count\": 1, \"min\": 0.9418784379959106, \"max\": 0.9418784379959106}}}\u001b[0m\n",
      "\u001b[34m#metrics {\"StartTime\": 1751914204.9507394, \"EndTime\": 1751914204.9507446, \"Dimensions\": {\"Algorithm\": \"Linear Learner\", \"Host\": \"algo-1\", \"Operation\": \"training\", \"epoch\": 1, \"model\": 11}, \"Metrics\": {\"train_absolute_loss_objective\": {\"sum\": 0.9263134002685547, \"count\": 1, \"min\": 0.9263134002685547, \"max\": 0.9263134002685547}}}\u001b[0m\n",
      "\u001b[34m#metrics {\"StartTime\": 1751914204.9507637, \"EndTime\": 1751914204.950769, \"Dimensions\": {\"Algorithm\": \"Linear Learner\", \"Host\": \"algo-1\", \"Operation\": \"training\", \"epoch\": 1, \"model\": 12}, \"Metrics\": {\"train_absolute_loss_objective\": {\"sum\": 0.8235618472099304, \"count\": 1, \"min\": 0.8235618472099304, \"max\": 0.8235618472099304}}}\u001b[0m\n",
      "\u001b[34m#metrics {\"StartTime\": 1751914204.9507902, \"EndTime\": 1751914204.9507952, \"Dimensions\": {\"Algorithm\": \"Linear Learner\", \"Host\": \"algo-1\", \"Operation\": \"training\", \"epoch\": 1, \"model\": 13}, \"Metrics\": {\"train_absolute_loss_objective\": {\"sum\": 0.8542864322662354, \"count\": 1, \"min\": 0.8542864322662354, \"max\": 0.8542864322662354}}}\u001b[0m\n",
      "\u001b[34m#metrics {\"StartTime\": 1751914204.9508138, \"EndTime\": 1751914204.950819, \"Dimensions\": {\"Algorithm\": \"Linear Learner\", \"Host\": \"algo-1\", \"Operation\": \"training\", \"epoch\": 1, \"model\": 14}, \"Metrics\": {\"train_absolute_loss_objective\": {\"sum\": 0.8218214511871338, \"count\": 1, \"min\": 0.8218214511871338, \"max\": 0.8218214511871338}}}\u001b[0m\n",
      "\u001b[34m#metrics {\"StartTime\": 1751914204.9508367, \"EndTime\": 1751914204.950842, \"Dimensions\": {\"Algorithm\": \"Linear Learner\", \"Host\": \"algo-1\", \"Operation\": \"training\", \"epoch\": 1, \"model\": 15}, \"Metrics\": {\"train_absolute_loss_objective\": {\"sum\": 0.8616500496864319, \"count\": 1, \"min\": 0.8616500496864319, \"max\": 0.8616500496864319}}}\u001b[0m\n",
      "\u001b[34m#metrics {\"StartTime\": 1751914204.9508598, \"EndTime\": 1751914204.9508646, \"Dimensions\": {\"Algorithm\": \"Linear Learner\", \"Host\": \"algo-1\", \"Operation\": \"training\", \"epoch\": 1, \"model\": 16}, \"Metrics\": {\"train_absolute_loss_objective\": {\"sum\": 0.9095121026039124, \"count\": 1, \"min\": 0.9095121026039124, \"max\": 0.9095121026039124}}}\u001b[0m\n",
      "\u001b[34m#metrics {\"StartTime\": 1751914204.9508822, \"EndTime\": 1751914204.9508874, \"Dimensions\": {\"Algorithm\": \"Linear Learner\", \"Host\": \"algo-1\", \"Operation\": \"training\", \"epoch\": 1, \"model\": 17}, \"Metrics\": {\"train_absolute_loss_objective\": {\"sum\": 0.9634031653404236, \"count\": 1, \"min\": 0.9634031653404236, \"max\": 0.9634031653404236}}}\u001b[0m\n",
      "\u001b[34m#metrics {\"StartTime\": 1751914204.9509053, \"EndTime\": 1751914204.95091, \"Dimensions\": {\"Algorithm\": \"Linear Learner\", \"Host\": \"algo-1\", \"Operation\": \"training\", \"epoch\": 1, \"model\": 18}, \"Metrics\": {\"train_absolute_loss_objective\": {\"sum\": 0.9379702806472778, \"count\": 1, \"min\": 0.9379702806472778, \"max\": 0.9379702806472778}}}\u001b[0m\n",
      "\u001b[34m#metrics {\"StartTime\": 1751914204.9509284, \"EndTime\": 1751914204.9509335, \"Dimensions\": {\"Algorithm\": \"Linear Learner\", \"Host\": \"algo-1\", \"Operation\": \"training\", \"epoch\": 1, \"model\": 19}, \"Metrics\": {\"train_absolute_loss_objective\": {\"sum\": 0.9351292848587036, \"count\": 1, \"min\": 0.9351292848587036, \"max\": 0.9351292848587036}}}\u001b[0m\n",
      "\u001b[34m#metrics {\"StartTime\": 1751914204.9509542, \"EndTime\": 1751914204.9509594, \"Dimensions\": {\"Algorithm\": \"Linear Learner\", \"Host\": \"algo-1\", \"Operation\": \"training\", \"epoch\": 1, \"model\": 20}, \"Metrics\": {\"train_absolute_loss_objective\": {\"sum\": 0.8753005266189575, \"count\": 1, \"min\": 0.8753005266189575, \"max\": 0.8753005266189575}}}\u001b[0m\n",
      "\u001b[34m#metrics {\"StartTime\": 1751914204.9510431, \"EndTime\": 1751914204.9510517, \"Dimensions\": {\"Algorithm\": \"Linear Learner\", \"Host\": \"algo-1\", \"Operation\": \"training\", \"epoch\": 1, \"model\": 21}, \"Metrics\": {\"train_absolute_loss_objective\": {\"sum\": 0.8931183815002441, \"count\": 1, \"min\": 0.8931183815002441, \"max\": 0.8931183815002441}}}\u001b[0m\n",
      "\u001b[34m#metrics {\"StartTime\": 1751914204.951073, \"EndTime\": 1751914204.9510784, \"Dimensions\": {\"Algorithm\": \"Linear Learner\", \"Host\": \"algo-1\", \"Operation\": \"training\", \"epoch\": 1, \"model\": 22}, \"Metrics\": {\"train_absolute_loss_objective\": {\"sum\": 0.817517876625061, \"count\": 1, \"min\": 0.817517876625061, \"max\": 0.817517876625061}}}\u001b[0m\n",
      "\u001b[34m#metrics {\"StartTime\": 1751914204.9511244, \"EndTime\": 1751914204.9511304, \"Dimensions\": {\"Algorithm\": \"Linear Learner\", \"Host\": \"algo-1\", \"Operation\": \"training\", \"epoch\": 1, \"model\": 23}, \"Metrics\": {\"train_absolute_loss_objective\": {\"sum\": 0.9237563014030457, \"count\": 1, \"min\": 0.9237563014030457, \"max\": 0.9237563014030457}}}\u001b[0m\n",
      "\u001b[34m#metrics {\"StartTime\": 1751914204.951169, \"EndTime\": 1751914204.951175, \"Dimensions\": {\"Algorithm\": \"Linear Learner\", \"Host\": \"algo-1\", \"Operation\": \"training\", \"epoch\": 1, \"model\": 24}, \"Metrics\": {\"train_absolute_loss_objective\": {\"sum\": 0.9037894010543823, \"count\": 1, \"min\": 0.9037894010543823, \"max\": 0.9037894010543823}}}\u001b[0m\n",
      "\u001b[34m#metrics {\"StartTime\": 1751914204.9512234, \"EndTime\": 1751914204.9512293, \"Dimensions\": {\"Algorithm\": \"Linear Learner\", \"Host\": \"algo-1\", \"Operation\": \"training\", \"epoch\": 1, \"model\": 25}, \"Metrics\": {\"train_absolute_loss_objective\": {\"sum\": 0.9826135635375977, \"count\": 1, \"min\": 0.9826135635375977, \"max\": 0.9826135635375977}}}\u001b[0m\n",
      "\u001b[34m#metrics {\"StartTime\": 1751914204.951268, \"EndTime\": 1751914204.9512737, \"Dimensions\": {\"Algorithm\": \"Linear Learner\", \"Host\": \"algo-1\", \"Operation\": \"training\", \"epoch\": 1, \"model\": 26}, \"Metrics\": {\"train_absolute_loss_objective\": {\"sum\": 0.9685192108154297, \"count\": 1, \"min\": 0.9685192108154297, \"max\": 0.9685192108154297}}}\u001b[0m\n",
      "\u001b[34m#metrics {\"StartTime\": 1751914204.951312, \"EndTime\": 1751914204.951318, \"Dimensions\": {\"Algorithm\": \"Linear Learner\", \"Host\": \"algo-1\", \"Operation\": \"training\", \"epoch\": 1, \"model\": 27}, \"Metrics\": {\"train_absolute_loss_objective\": {\"sum\": 0.956531822681427, \"count\": 1, \"min\": 0.956531822681427, \"max\": 0.956531822681427}}}\u001b[0m\n",
      "\u001b[34m#metrics {\"StartTime\": 1751914204.951356, \"EndTime\": 1751914204.951362, \"Dimensions\": {\"Algorithm\": \"Linear Learner\", \"Host\": \"algo-1\", \"Operation\": \"training\", \"epoch\": 1, \"model\": 28}, \"Metrics\": {\"train_absolute_loss_objective\": {\"sum\": 1.0119938850402832, \"count\": 1, \"min\": 1.0119938850402832, \"max\": 1.0119938850402832}}}\u001b[0m\n",
      "\u001b[34m#metrics {\"StartTime\": 1751914204.9514003, \"EndTime\": 1751914204.9514058, \"Dimensions\": {\"Algorithm\": \"Linear Learner\", \"Host\": \"algo-1\", \"Operation\": \"training\", \"epoch\": 1, \"model\": 29}, \"Metrics\": {\"train_absolute_loss_objective\": {\"sum\": 1.0093929767608643, \"count\": 1, \"min\": 1.0093929767608643, \"max\": 1.0093929767608643}}}\u001b[0m\n",
      "\u001b[34m#metrics {\"StartTime\": 1751914204.9514434, \"EndTime\": 1751914204.9514494, \"Dimensions\": {\"Algorithm\": \"Linear Learner\", \"Host\": \"algo-1\", \"Operation\": \"training\", \"epoch\": 1, \"model\": 30}, \"Metrics\": {\"train_absolute_loss_objective\": {\"sum\": 0.869907557964325, \"count\": 1, \"min\": 0.869907557964325, \"max\": 0.869907557964325}}}\u001b[0m\n",
      "\u001b[34m#metrics {\"StartTime\": 1751914204.951491, \"EndTime\": 1751914204.951497, \"Dimensions\": {\"Algorithm\": \"Linear Learner\", \"Host\": \"algo-1\", \"Operation\": \"training\", \"epoch\": 1, \"model\": 31}, \"Metrics\": {\"train_absolute_loss_objective\": {\"sum\": 1.0404504537582397, \"count\": 1, \"min\": 1.0404504537582397, \"max\": 1.0404504537582397}}}\u001b[0m\n",
      "\u001b[34m[07/07/2025 18:50:04 INFO 139947078211392] #quality_metric: host=algo-1, epoch=1, train absolute_loss_objective <loss>=0.9474802017211914\u001b[0m\n",
      "\u001b[34m[07/07/2025 18:50:04 INFO 139947078211392] #early_stopping_criteria_metric: host=algo-1, epoch=1, criteria=absolute_loss_objective, value=0.8132147192955017\u001b[0m\n",
      "\u001b[34m[07/07/2025 18:50:04 INFO 139947078211392] Epoch 1: Loss improved. Updating best model\u001b[0m\n",
      "\u001b[34m[07/07/2025 18:50:04 INFO 139947078211392] Saving model for epoch: 1\u001b[0m\n",
      "\u001b[34m[07/07/2025 18:50:04 INFO 139947078211392] Saved checkpoint to \"/tmp/tmpw0cbss_3/mx-mod-0000.params\"\u001b[0m\n",
      "\u001b[34m[07/07/2025 18:50:04 INFO 139947078211392] #progress_metric: host=algo-1, completed 40.0 % of epochs\u001b[0m\n",
      "\u001b[34m#metrics {\"StartTime\": 1751914204.9362326, \"EndTime\": 1751914204.9588273, \"Dimensions\": {\"Algorithm\": \"Linear Learner\", \"Host\": \"algo-1\", \"Operation\": \"training\", \"epoch\": 1, \"Meta\": \"training_data_iter\"}, \"Metrics\": {\"Total Records Seen\": {\"sum\": 19.0, \"count\": 1, \"min\": 19, \"max\": 19}, \"Total Batches Seen\": {\"sum\": 7.0, \"count\": 1, \"min\": 7, \"max\": 7}, \"Max Records Seen Between Resets\": {\"sum\": 5.0, \"count\": 1, \"min\": 5, \"max\": 5}, \"Max Batches Seen Between Resets\": {\"sum\": 2.0, \"count\": 1, \"min\": 2, \"max\": 2}, \"Reset Count\": {\"sum\": 4.0, \"count\": 1, \"min\": 4, \"max\": 4}, \"Number of Records Since Last Reset\": {\"sum\": 5.0, \"count\": 1, \"min\": 5, \"max\": 5}, \"Number of Batches Since Last Reset\": {\"sum\": 2.0, \"count\": 1, \"min\": 2, \"max\": 2}}}\u001b[0m\n",
      "\u001b[34m[07/07/2025 18:50:04 INFO 139947078211392] #throughput_metric: host=algo-1, train throughput=220.32147584728847 records/second\u001b[0m\n",
      "\u001b[34m[2025-07-07 18:50:04.972] [tensorio] [info] epoch_stats={\"data_pipeline\": \"/opt/ml/input/data/train\", \"epoch\": 8, \"duration\": 13, \"num_examples\": 2, \"num_bytes\": 240}\u001b[0m\n",
      "\u001b[34m#metrics {\"StartTime\": 1751914204.9728832, \"EndTime\": 1751914204.9733858, \"Dimensions\": {\"Algorithm\": \"Linear Learner\", \"Host\": \"algo-1\", \"Operation\": \"training\", \"epoch\": 2, \"model\": 0}, \"Metrics\": {\"train_absolute_loss_objective\": {\"sum\": 0.9429364800453186, \"count\": 1, \"min\": 0.9429364800453186, \"max\": 0.9429364800453186}}}\u001b[0m\n",
      "\u001b[34m#metrics {\"StartTime\": 1751914204.9734514, \"EndTime\": 1751914204.97346, \"Dimensions\": {\"Algorithm\": \"Linear Learner\", \"Host\": \"algo-1\", \"Operation\": \"training\", \"epoch\": 2, \"model\": 1}, \"Metrics\": {\"train_absolute_loss_objective\": {\"sum\": 0.9638559222221375, \"count\": 1, \"min\": 0.9638559222221375, \"max\": 0.9638559222221375}}}\u001b[0m\n",
      "\u001b[34m#metrics {\"StartTime\": 1751914204.973483, \"EndTime\": 1751914204.973489, \"Dimensions\": {\"Algorithm\": \"Linear Learner\", \"Host\": \"algo-1\", \"Operation\": \"training\", \"epoch\": 2, \"model\": 2}, \"Metrics\": {\"train_absolute_loss_objective\": {\"sum\": 0.9454705715179443, \"count\": 1, \"min\": 0.9454705715179443, \"max\": 0.9454705715179443}}}\u001b[0m\n",
      "\u001b[34m#metrics {\"StartTime\": 1751914204.9735444, \"EndTime\": 1751914204.9735508, \"Dimensions\": {\"Algorithm\": \"Linear Learner\", \"Host\": \"algo-1\", \"Operation\": \"training\", \"epoch\": 2, \"model\": 3}, \"Metrics\": {\"train_absolute_loss_objective\": {\"sum\": 0.962786853313446, \"count\": 1, \"min\": 0.962786853313446, \"max\": 0.962786853313446}}}\u001b[0m\n",
      "\u001b[34m#metrics {\"StartTime\": 1751914204.9735715, \"EndTime\": 1751914204.9735775, \"Dimensions\": {\"Algorithm\": \"Linear Learner\", \"Host\": \"algo-1\", \"Operation\": \"training\", \"epoch\": 2, \"model\": 4}, \"Metrics\": {\"train_absolute_loss_objective\": {\"sum\": 0.7223409414291382, \"count\": 1, \"min\": 0.7223409414291382, \"max\": 0.7223409414291382}}}\u001b[0m\n",
      "\u001b[34m#metrics {\"StartTime\": 1751914204.9735959, \"EndTime\": 1751914204.9736013, \"Dimensions\": {\"Algorithm\": \"Linear Learner\", \"Host\": \"algo-1\", \"Operation\": \"training\", \"epoch\": 2, \"model\": 5}, \"Metrics\": {\"train_absolute_loss_objective\": {\"sum\": 0.7337296009063721, \"count\": 1, \"min\": 0.7337296009063721, \"max\": 0.7337296009063721}}}\u001b[0m\n",
      "\u001b[34m#metrics {\"StartTime\": 1751914204.9736197, \"EndTime\": 1751914204.9736254, \"Dimensions\": {\"Algorithm\": \"Linear Learner\", \"Host\": \"algo-1\", \"Operation\": \"training\", \"epoch\": 2, \"model\": 6}, \"Metrics\": {\"train_absolute_loss_objective\": {\"sum\": 0.8310602903366089, \"count\": 1, \"min\": 0.8310602903366089, \"max\": 0.8310602903366089}}}\u001b[0m\n",
      "\u001b[34m#metrics {\"StartTime\": 1751914204.9736435, \"EndTime\": 1751914204.9736493, \"Dimensions\": {\"Algorithm\": \"Linear Learner\", \"Host\": \"algo-1\", \"Operation\": \"training\", \"epoch\": 2, \"model\": 7}, \"Metrics\": {\"train_absolute_loss_objective\": {\"sum\": 0.797173261642456, \"count\": 1, \"min\": 0.797173261642456, \"max\": 0.797173261642456}}}\u001b[0m\n",
      "\u001b[34m#metrics {\"StartTime\": 1751914204.9736679, \"EndTime\": 1751914204.9736729, \"Dimensions\": {\"Algorithm\": \"Linear Learner\", \"Host\": \"algo-1\", \"Operation\": \"training\", \"epoch\": 2, \"model\": 8}, \"Metrics\": {\"train_absolute_loss_objective\": {\"sum\": 1.0016731023788452, \"count\": 1, \"min\": 1.0016731023788452, \"max\": 1.0016731023788452}}}\u001b[0m\n",
      "\u001b[34m#metrics {\"StartTime\": 1751914204.9737177, \"EndTime\": 1751914204.9737236, \"Dimensions\": {\"Algorithm\": \"Linear Learner\", \"Host\": \"algo-1\", \"Operation\": \"training\", \"epoch\": 2, \"model\": 9}, \"Metrics\": {\"train_absolute_loss_objective\": {\"sum\": 0.9302958250045776, \"count\": 1, \"min\": 0.9302958250045776, \"max\": 0.9302958250045776}}}\u001b[0m\n",
      "\u001b[34m#metrics {\"StartTime\": 1751914204.9737632, \"EndTime\": 1751914204.9737692, \"Dimensions\": {\"Algorithm\": \"Linear Learner\", \"Host\": \"algo-1\", \"Operation\": \"training\", \"epoch\": 2, \"model\": 10}, \"Metrics\": {\"train_absolute_loss_objective\": {\"sum\": 0.9373347759246826, \"count\": 1, \"min\": 0.9373347759246826, \"max\": 0.9373347759246826}}}\u001b[0m\n",
      "\u001b[34m#metrics {\"StartTime\": 1751914204.973809, \"EndTime\": 1751914204.9738147, \"Dimensions\": {\"Algorithm\": \"Linear Learner\", \"Host\": \"algo-1\", \"Operation\": \"training\", \"epoch\": 2, \"model\": 11}, \"Metrics\": {\"train_absolute_loss_objective\": {\"sum\": 0.9217696785926819, \"count\": 1, \"min\": 0.9217696785926819, \"max\": 0.9217696785926819}}}\u001b[0m\n",
      "\u001b[34m#metrics {\"StartTime\": 1751914204.9738665, \"EndTime\": 1751914204.973873, \"Dimensions\": {\"Algorithm\": \"Linear Learner\", \"Host\": \"algo-1\", \"Operation\": \"training\", \"epoch\": 2, \"model\": 12}, \"Metrics\": {\"train_absolute_loss_objective\": {\"sum\": 0.732690691947937, \"count\": 1, \"min\": 0.732690691947937, \"max\": 0.732690691947937}}}\u001b[0m\n",
      "\u001b[34m#metrics {\"StartTime\": 1751914204.9738982, \"EndTime\": 1751914204.9739037, \"Dimensions\": {\"Algorithm\": \"Linear Learner\", \"Host\": \"algo-1\", \"Operation\": \"training\", \"epoch\": 2, \"model\": 13}, \"Metrics\": {\"train_absolute_loss_objective\": {\"sum\": 0.7634152173995972, \"count\": 1, \"min\": 0.7634152173995972, \"max\": 0.7634152173995972}}}\u001b[0m\n",
      "\u001b[34m#metrics {\"StartTime\": 1751914204.9739478, \"EndTime\": 1751914204.9739535, \"Dimensions\": {\"Algorithm\": \"Linear Learner\", \"Host\": \"algo-1\", \"Operation\": \"training\", \"epoch\": 2, \"model\": 14}, \"Metrics\": {\"train_absolute_loss_objective\": {\"sum\": 0.7309502363204956, \"count\": 1, \"min\": 0.7309502363204956, \"max\": 0.7309502363204956}}}\u001b[0m\n",
      "\u001b[34m#metrics {\"StartTime\": 1751914204.973998, \"EndTime\": 1751914204.974004, \"Dimensions\": {\"Algorithm\": \"Linear Learner\", \"Host\": \"algo-1\", \"Operation\": \"training\", \"epoch\": 2, \"model\": 15}, \"Metrics\": {\"train_absolute_loss_objective\": {\"sum\": 0.7707788944244385, \"count\": 1, \"min\": 0.7707788944244385, \"max\": 0.7707788944244385}}}\u001b[0m\n",
      "\u001b[34m#metrics {\"StartTime\": 1751914204.9740453, \"EndTime\": 1751914204.974051, \"Dimensions\": {\"Algorithm\": \"Linear Learner\", \"Host\": \"algo-1\", \"Operation\": \"training\", \"epoch\": 2, \"model\": 16}, \"Metrics\": {\"train_absolute_loss_objective\": {\"sum\": 0.9049690961837769, \"count\": 1, \"min\": 0.9049690961837769, \"max\": 0.9049690961837769}}}\u001b[0m\n",
      "\u001b[34m#metrics {\"StartTime\": 1751914204.9740918, \"EndTime\": 1751914204.9740975, \"Dimensions\": {\"Algorithm\": \"Linear Learner\", \"Host\": \"algo-1\", \"Operation\": \"training\", \"epoch\": 2, \"model\": 17}, \"Metrics\": {\"train_absolute_loss_objective\": {\"sum\": 0.9588601589202881, \"count\": 1, \"min\": 0.9588601589202881, \"max\": 0.9588601589202881}}}\u001b[0m\n",
      "\u001b[34m#metrics {\"StartTime\": 1751914204.9741423, \"EndTime\": 1751914204.9741485, \"Dimensions\": {\"Algorithm\": \"Linear Learner\", \"Host\": \"algo-1\", \"Operation\": \"training\", \"epoch\": 2, \"model\": 18}, \"Metrics\": {\"train_absolute_loss_objective\": {\"sum\": 0.9334272146224976, \"count\": 1, \"min\": 0.9334272146224976, \"max\": 0.9334272146224976}}}\u001b[0m\n",
      "\u001b[34m#metrics {\"StartTime\": 1751914204.9741867, \"EndTime\": 1751914204.9741926, \"Dimensions\": {\"Algorithm\": \"Linear Learner\", \"Host\": \"algo-1\", \"Operation\": \"training\", \"epoch\": 2, \"model\": 19}, \"Metrics\": {\"train_absolute_loss_objective\": {\"sum\": 0.9305863380432129, \"count\": 1, \"min\": 0.9305863380432129, \"max\": 0.9305863380432129}}}\u001b[0m\n",
      "\u001b[34m#metrics {\"StartTime\": 1751914204.9742303, \"EndTime\": 1751914204.9742365, \"Dimensions\": {\"Algorithm\": \"Linear Learner\", \"Host\": \"algo-1\", \"Operation\": \"training\", \"epoch\": 2, \"model\": 20}, \"Metrics\": {\"train_absolute_loss_objective\": {\"sum\": 0.7848498821258545, \"count\": 1, \"min\": 0.7848498821258545, \"max\": 0.7848498821258545}}}\u001b[0m\n",
      "\u001b[34m#metrics {\"StartTime\": 1751914204.974275, \"EndTime\": 1751914204.974281, \"Dimensions\": {\"Algorithm\": \"Linear Learner\", \"Host\": \"algo-1\", \"Operation\": \"training\", \"epoch\": 2, \"model\": 21}, \"Metrics\": {\"train_absolute_loss_objective\": {\"sum\": 0.8026551604270935, \"count\": 1, \"min\": 0.8026551604270935, \"max\": 0.8026551604270935}}}\u001b[0m\n",
      "\u001b[34m#metrics {\"StartTime\": 1751914204.9743218, \"EndTime\": 1751914204.9743278, \"Dimensions\": {\"Algorithm\": \"Linear Learner\", \"Host\": \"algo-1\", \"Operation\": \"training\", \"epoch\": 2, \"model\": 22}, \"Metrics\": {\"train_absolute_loss_objective\": {\"sum\": 0.7271134257316589, \"count\": 1, \"min\": 0.7271134257316589, \"max\": 0.7271134257316589}}}\u001b[0m\n",
      "\u001b[34m#metrics {\"StartTime\": 1751914204.9743524, \"EndTime\": 1751914204.974358, \"Dimensions\": {\"Algorithm\": \"Linear Learner\", \"Host\": \"algo-1\", \"Operation\": \"training\", \"epoch\": 2, \"model\": 23}, \"Metrics\": {\"train_absolute_loss_objective\": {\"sum\": 0.8332730531692505, \"count\": 1, \"min\": 0.8332730531692505, \"max\": 0.8332730531692505}}}\u001b[0m\n",
      "\u001b[34m#metrics {\"StartTime\": 1751914204.9743774, \"EndTime\": 1751914204.9743829, \"Dimensions\": {\"Algorithm\": \"Linear Learner\", \"Host\": \"algo-1\", \"Operation\": \"training\", \"epoch\": 2, \"model\": 24}, \"Metrics\": {\"train_absolute_loss_objective\": {\"sum\": 0.908316969871521, \"count\": 1, \"min\": 0.908316969871521, \"max\": 0.908316969871521}}}\u001b[0m\n",
      "\u001b[34m#metrics {\"StartTime\": 1751914204.974429, \"EndTime\": 1751914204.974435, \"Dimensions\": {\"Algorithm\": \"Linear Learner\", \"Host\": \"algo-1\", \"Operation\": \"training\", \"epoch\": 2, \"model\": 25}, \"Metrics\": {\"train_absolute_loss_objective\": {\"sum\": 0.9780948758125305, \"count\": 1, \"min\": 0.9780948758125305, \"max\": 0.9780948758125305}}}\u001b[0m\n",
      "\u001b[34m#metrics {\"StartTime\": 1751914204.9744751, \"EndTime\": 1751914204.9744813, \"Dimensions\": {\"Algorithm\": \"Linear Learner\", \"Host\": \"algo-1\", \"Operation\": \"training\", \"epoch\": 2, \"model\": 26}, \"Metrics\": {\"train_absolute_loss_objective\": {\"sum\": 0.9640280604362488, \"count\": 1, \"min\": 0.9640280604362488, \"max\": 0.9640280604362488}}}\u001b[0m\n",
      "\u001b[34m#metrics {\"StartTime\": 1751914204.9745054, \"EndTime\": 1751914204.9745111, \"Dimensions\": {\"Algorithm\": \"Linear Learner\", \"Host\": \"algo-1\", \"Operation\": \"training\", \"epoch\": 2, \"model\": 27}, \"Metrics\": {\"train_absolute_loss_objective\": {\"sum\": 0.952190637588501, \"count\": 1, \"min\": 0.952190637588501, \"max\": 0.952190637588501}}}\u001b[0m\n",
      "\u001b[34m#metrics {\"StartTime\": 1751914204.9745297, \"EndTime\": 1751914204.974535, \"Dimensions\": {\"Algorithm\": \"Linear Learner\", \"Host\": \"algo-1\", \"Operation\": \"training\", \"epoch\": 2, \"model\": 28}, \"Metrics\": {\"train_absolute_loss_objective\": {\"sum\": 0.9763543009757996, \"count\": 1, \"min\": 0.9763543009757996, \"max\": 0.9763543009757996}}}\u001b[0m\n",
      "\u001b[34m#metrics {\"StartTime\": 1751914204.9745536, \"EndTime\": 1751914204.974559, \"Dimensions\": {\"Algorithm\": \"Linear Learner\", \"Host\": \"algo-1\", \"Operation\": \"training\", \"epoch\": 2, \"model\": 29}, \"Metrics\": {\"train_absolute_loss_objective\": {\"sum\": 0.9781023859977722, \"count\": 1, \"min\": 0.9781023859977722, \"max\": 0.9781023859977722}}}\u001b[0m\n",
      "\u001b[34m#metrics {\"StartTime\": 1751914204.9745772, \"EndTime\": 1751914204.9745824, \"Dimensions\": {\"Algorithm\": \"Linear Learner\", \"Host\": \"algo-1\", \"Operation\": \"training\", \"epoch\": 2, \"model\": 30}, \"Metrics\": {\"train_absolute_loss_objective\": {\"sum\": 0.9287838339805603, \"count\": 1, \"min\": 0.9287838339805603, \"max\": 0.9287838339805603}}}\u001b[0m\n",
      "\u001b[34m#metrics {\"StartTime\": 1751914204.974605, \"EndTime\": 1751914204.9746103, \"Dimensions\": {\"Algorithm\": \"Linear Learner\", \"Host\": \"algo-1\", \"Operation\": \"training\", \"epoch\": 2, \"model\": 31}, \"Metrics\": {\"train_absolute_loss_objective\": {\"sum\": 0.9730968475341797, \"count\": 1, \"min\": 0.9730968475341797, \"max\": 0.9730968475341797}}}\u001b[0m\n",
      "\u001b[34m[07/07/2025 18:50:04 INFO 139947078211392] #quality_metric: host=algo-1, epoch=2, train absolute_loss_objective <loss>=0.9429364800453186\u001b[0m\n",
      "\u001b[34m[07/07/2025 18:50:04 INFO 139947078211392] #early_stopping_criteria_metric: host=algo-1, epoch=2, criteria=absolute_loss_objective, value=0.7223409414291382\u001b[0m\n",
      "\u001b[34m[07/07/2025 18:50:04 INFO 139947078211392] Epoch 2: Loss improved. Updating best model\u001b[0m\n",
      "\u001b[34m[07/07/2025 18:50:04 INFO 139947078211392] Saving model for epoch: 2\u001b[0m\n",
      "\u001b[34m[07/07/2025 18:50:04 INFO 139947078211392] Saved checkpoint to \"/tmp/tmp5158xtbc/mx-mod-0000.params\"\u001b[0m\n",
      "\u001b[34m[07/07/2025 18:50:04 INFO 139947078211392] #progress_metric: host=algo-1, completed 60.0 % of epochs\u001b[0m\n",
      "\u001b[34m#metrics {\"StartTime\": 1751914204.9590702, \"EndTime\": 1751914204.9812508, \"Dimensions\": {\"Algorithm\": \"Linear Learner\", \"Host\": \"algo-1\", \"Operation\": \"training\", \"epoch\": 2, \"Meta\": \"training_data_iter\"}, \"Metrics\": {\"Total Records Seen\": {\"sum\": 24.0, \"count\": 1, \"min\": 24, \"max\": 24}, \"Total Batches Seen\": {\"sum\": 9.0, \"count\": 1, \"min\": 9, \"max\": 9}, \"Max Records Seen Between Resets\": {\"sum\": 5.0, \"count\": 1, \"min\": 5, \"max\": 5}, \"Max Batches Seen Between Resets\": {\"sum\": 2.0, \"count\": 1, \"min\": 2, \"max\": 2}, \"Reset Count\": {\"sum\": 5.0, \"count\": 1, \"min\": 5, \"max\": 5}, \"Number of Records Since Last Reset\": {\"sum\": 5.0, \"count\": 1, \"min\": 5, \"max\": 5}, \"Number of Batches Since Last Reset\": {\"sum\": 2.0, \"count\": 1, \"min\": 2, \"max\": 2}}}\u001b[0m\n",
      "\u001b[34m[07/07/2025 18:50:04 INFO 139947078211392] #throughput_metric: host=algo-1, train throughput=224.45517108516262 records/second\u001b[0m\n",
      "\u001b[34m[2025-07-07 18:50:04.994] [tensorio] [info] epoch_stats={\"data_pipeline\": \"/opt/ml/input/data/train\", \"epoch\": 10, \"duration\": 13, \"num_examples\": 2, \"num_bytes\": 240}\u001b[0m\n",
      "\u001b[34m#metrics {\"StartTime\": 1751914204.9948504, \"EndTime\": 1751914204.994901, \"Dimensions\": {\"Algorithm\": \"Linear Learner\", \"Host\": \"algo-1\", \"Operation\": \"training\", \"epoch\": 3, \"model\": 0}, \"Metrics\": {\"train_absolute_loss_objective\": {\"sum\": 0.9383927583694458, \"count\": 1, \"min\": 0.9383927583694458, \"max\": 0.9383927583694458}}}\u001b[0m\n",
      "\u001b[34m#metrics {\"StartTime\": 1751914204.9950202, \"EndTime\": 1751914204.9950306, \"Dimensions\": {\"Algorithm\": \"Linear Learner\", \"Host\": \"algo-1\", \"Operation\": \"training\", \"epoch\": 3, \"model\": 1}, \"Metrics\": {\"train_absolute_loss_objective\": {\"sum\": 0.9593122005462646, \"count\": 1, \"min\": 0.9593122005462646, \"max\": 0.9593122005462646}}}\u001b[0m\n",
      "\u001b[34m#metrics {\"StartTime\": 1751914204.9950874, \"EndTime\": 1751914204.9950948, \"Dimensions\": {\"Algorithm\": \"Linear Learner\", \"Host\": \"algo-1\", \"Operation\": \"training\", \"epoch\": 3, \"model\": 2}, \"Metrics\": {\"train_absolute_loss_objective\": {\"sum\": 0.9409268498420715, \"count\": 1, \"min\": 0.9409268498420715, \"max\": 0.9409268498420715}}}\u001b[0m\n",
      "\u001b[34m#metrics {\"StartTime\": 1751914204.9951363, \"EndTime\": 1751914204.9951425, \"Dimensions\": {\"Algorithm\": \"Linear Learner\", \"Host\": \"algo-1\", \"Operation\": \"training\", \"epoch\": 3, \"model\": 3}, \"Metrics\": {\"train_absolute_loss_objective\": {\"sum\": 0.9582431316375732, \"count\": 1, \"min\": 0.9582431316375732, \"max\": 0.9582431316375732}}}\u001b[0m\n",
      "\u001b[34m#metrics {\"StartTime\": 1751914204.9951859, \"EndTime\": 1751914204.9951923, \"Dimensions\": {\"Algorithm\": \"Linear Learner\", \"Host\": \"algo-1\", \"Operation\": \"training\", \"epoch\": 3, \"model\": 4}, \"Metrics\": {\"train_absolute_loss_objective\": {\"sum\": 0.6314672231674194, \"count\": 1, \"min\": 0.6314672231674194, \"max\": 0.6314672231674194}}}\u001b[0m\n",
      "\u001b[34m#metrics {\"StartTime\": 1751914204.995231, \"EndTime\": 1751914204.9952366, \"Dimensions\": {\"Algorithm\": \"Linear Learner\", \"Host\": \"algo-1\", \"Operation\": \"training\", \"epoch\": 3, \"model\": 5}, \"Metrics\": {\"train_absolute_loss_objective\": {\"sum\": 0.6428558826446533, \"count\": 1, \"min\": 0.6428558826446533, \"max\": 0.6428558826446533}}}\u001b[0m\n",
      "\u001b[34m#metrics {\"StartTime\": 1751914204.9952796, \"EndTime\": 1751914204.9952857, \"Dimensions\": {\"Algorithm\": \"Linear Learner\", \"Host\": \"algo-1\", \"Operation\": \"training\", \"epoch\": 3, \"model\": 6}, \"Metrics\": {\"train_absolute_loss_objective\": {\"sum\": 0.7401865720748901, \"count\": 1, \"min\": 0.7401865720748901, \"max\": 0.7401865720748901}}}\u001b[0m\n",
      "\u001b[34m#metrics {\"StartTime\": 1751914204.9953241, \"EndTime\": 1751914204.9953303, \"Dimensions\": {\"Algorithm\": \"Linear Learner\", \"Host\": \"algo-1\", \"Operation\": \"training\", \"epoch\": 3, \"model\": 7}, \"Metrics\": {\"train_absolute_loss_objective\": {\"sum\": 0.7062995433807373, \"count\": 1, \"min\": 0.7062995433807373, \"max\": 0.7062995433807373}}}\u001b[0m\n",
      "\u001b[34m#metrics {\"StartTime\": 1751914204.9953685, \"EndTime\": 1751914204.995374, \"Dimensions\": {\"Algorithm\": \"Linear Learner\", \"Host\": \"algo-1\", \"Operation\": \"training\", \"epoch\": 3, \"model\": 8}, \"Metrics\": {\"train_absolute_loss_objective\": {\"sum\": 0.9971294403076172, \"count\": 1, \"min\": 0.9971294403076172, \"max\": 0.9971294403076172}}}\u001b[0m\n",
      "\u001b[34m#metrics {\"StartTime\": 1751914204.9954317, \"EndTime\": 1751914204.9954383, \"Dimensions\": {\"Algorithm\": \"Linear Learner\", \"Host\": \"algo-1\", \"Operation\": \"training\", \"epoch\": 3, \"model\": 9}, \"Metrics\": {\"train_absolute_loss_objective\": {\"sum\": 0.9257521629333496, \"count\": 1, \"min\": 0.9257521629333496, \"max\": 0.9257521629333496}}}\u001b[0m\n",
      "\u001b[34m#metrics {\"StartTime\": 1751914204.9954762, \"EndTime\": 1751914204.9954824, \"Dimensions\": {\"Algorithm\": \"Linear Learner\", \"Host\": \"algo-1\", \"Operation\": \"training\", \"epoch\": 3, \"model\": 10}, \"Metrics\": {\"train_absolute_loss_objective\": {\"sum\": 0.9327910542488098, \"count\": 1, \"min\": 0.9327910542488098, \"max\": 0.9327910542488098}}}\u001b[0m\n",
      "\u001b[34m#metrics {\"StartTime\": 1751914204.9955194, \"EndTime\": 1751914204.9955254, \"Dimensions\": {\"Algorithm\": \"Linear Learner\", \"Host\": \"algo-1\", \"Operation\": \"training\", \"epoch\": 3, \"model\": 11}, \"Metrics\": {\"train_absolute_loss_objective\": {\"sum\": 0.9172260761260986, \"count\": 1, \"min\": 0.9172260761260986, \"max\": 0.9172260761260986}}}\u001b[0m\n",
      "\u001b[34m#metrics {\"StartTime\": 1751914204.9955623, \"EndTime\": 1751914204.995568, \"Dimensions\": {\"Algorithm\": \"Linear Learner\", \"Host\": \"algo-1\", \"Operation\": \"training\", \"epoch\": 3, \"model\": 12}, \"Metrics\": {\"train_absolute_loss_objective\": {\"sum\": 0.6418238878250122, \"count\": 1, \"min\": 0.6418238878250122, \"max\": 0.6418238878250122}}}\u001b[0m\n",
      "\u001b[34m#metrics {\"StartTime\": 1751914204.9956048, \"EndTime\": 1751914204.995611, \"Dimensions\": {\"Algorithm\": \"Linear Learner\", \"Host\": \"algo-1\", \"Operation\": \"training\", \"epoch\": 3, \"model\": 13}, \"Metrics\": {\"train_absolute_loss_objective\": {\"sum\": 0.6725484132766724, \"count\": 1, \"min\": 0.6725484132766724, \"max\": 0.6725484132766724}}}\u001b[0m\n",
      "\u001b[34m#metrics {\"StartTime\": 1751914204.995648, \"EndTime\": 1751914204.9956536, \"Dimensions\": {\"Algorithm\": \"Linear Learner\", \"Host\": \"algo-1\", \"Operation\": \"training\", \"epoch\": 3, \"model\": 14}, \"Metrics\": {\"train_absolute_loss_objective\": {\"sum\": 0.6400834321975708, \"count\": 1, \"min\": 0.6400834321975708, \"max\": 0.6400834321975708}}}\u001b[0m\n",
      "\u001b[34m#metrics {\"StartTime\": 1751914204.9956903, \"EndTime\": 1751914204.995696, \"Dimensions\": {\"Algorithm\": \"Linear Learner\", \"Host\": \"algo-1\", \"Operation\": \"training\", \"epoch\": 3, \"model\": 15}, \"Metrics\": {\"train_absolute_loss_objective\": {\"sum\": 0.6799120306968689, \"count\": 1, \"min\": 0.6799120306968689, \"max\": 0.6799120306968689}}}\u001b[0m\n",
      "\u001b[34m#metrics {\"StartTime\": 1751914204.9957328, \"EndTime\": 1751914204.9957385, \"Dimensions\": {\"Algorithm\": \"Linear Learner\", \"Host\": \"algo-1\", \"Operation\": \"training\", \"epoch\": 3, \"model\": 16}, \"Metrics\": {\"train_absolute_loss_objective\": {\"sum\": 0.9004273414611816, \"count\": 1, \"min\": 0.9004273414611816, \"max\": 0.9004273414611816}}}\u001b[0m\n",
      "\u001b[34m#metrics {\"StartTime\": 1751914204.995775, \"EndTime\": 1751914204.9957807, \"Dimensions\": {\"Algorithm\": \"Linear Learner\", \"Host\": \"algo-1\", \"Operation\": \"training\", \"epoch\": 3, \"model\": 17}, \"Metrics\": {\"train_absolute_loss_objective\": {\"sum\": 0.9543181657791138, \"count\": 1, \"min\": 0.9543181657791138, \"max\": 0.9543181657791138}}}\u001b[0m\n",
      "\u001b[34m#metrics {\"StartTime\": 1751914204.9958172, \"EndTime\": 1751914204.995823, \"Dimensions\": {\"Algorithm\": \"Linear Learner\", \"Host\": \"algo-1\", \"Operation\": \"training\", \"epoch\": 3, \"model\": 18}, \"Metrics\": {\"train_absolute_loss_objective\": {\"sum\": 0.9288854002952576, \"count\": 1, \"min\": 0.9288854002952576, \"max\": 0.9288854002952576}}}\u001b[0m\n",
      "\u001b[34m#metrics {\"StartTime\": 1751914204.9958596, \"EndTime\": 1751914204.9958656, \"Dimensions\": {\"Algorithm\": \"Linear Learner\", \"Host\": \"algo-1\", \"Operation\": \"training\", \"epoch\": 3, \"model\": 19}, \"Metrics\": {\"train_absolute_loss_objective\": {\"sum\": 0.9260444641113281, \"count\": 1, \"min\": 0.9260444641113281, \"max\": 0.9260444641113281}}}\u001b[0m\n",
      "\u001b[34m#metrics {\"StartTime\": 1751914204.9959028, \"EndTime\": 1751914204.9959085, \"Dimensions\": {\"Algorithm\": \"Linear Learner\", \"Host\": \"algo-1\", \"Operation\": \"training\", \"epoch\": 3, \"model\": 20}, \"Metrics\": {\"train_absolute_loss_objective\": {\"sum\": 0.6951901316642761, \"count\": 1, \"min\": 0.6951901316642761, \"max\": 0.6951901316642761}}}\u001b[0m\n",
      "\u001b[34m#metrics {\"StartTime\": 1751914204.9959497, \"EndTime\": 1751914204.9959555, \"Dimensions\": {\"Algorithm\": \"Linear Learner\", \"Host\": \"algo-1\", \"Operation\": \"training\", \"epoch\": 3, \"model\": 21}, \"Metrics\": {\"train_absolute_loss_objective\": {\"sum\": 0.7129571437835693, \"count\": 1, \"min\": 0.7129571437835693, \"max\": 0.7129571437835693}}}\u001b[0m\n",
      "\u001b[34m#metrics {\"StartTime\": 1751914204.9959939, \"EndTime\": 1751914204.9959998, \"Dimensions\": {\"Algorithm\": \"Linear Learner\", \"Host\": \"algo-1\", \"Operation\": \"training\", \"epoch\": 3, \"model\": 22}, \"Metrics\": {\"train_absolute_loss_objective\": {\"sum\": 0.6375950574874878, \"count\": 1, \"min\": 0.6375950574874878, \"max\": 0.6375950574874878}}}\u001b[0m\n",
      "\u001b[34m#metrics {\"StartTime\": 1751914204.9960377, \"EndTime\": 1751914204.9960437, \"Dimensions\": {\"Algorithm\": \"Linear Learner\", \"Host\": \"algo-1\", \"Operation\": \"training\", \"epoch\": 3, \"model\": 23}, \"Metrics\": {\"train_absolute_loss_objective\": {\"sum\": 0.7435142397880554, \"count\": 1, \"min\": 0.7435142397880554, \"max\": 0.7435142397880554}}}\u001b[0m\n",
      "\u001b[34m#metrics {\"StartTime\": 1751914204.996081, \"EndTime\": 1751914204.996087, \"Dimensions\": {\"Algorithm\": \"Linear Learner\", \"Host\": \"algo-1\", \"Operation\": \"training\", \"epoch\": 3, \"model\": 24}, \"Metrics\": {\"train_absolute_loss_objective\": {\"sum\": 0.912815272808075, \"count\": 1, \"min\": 0.912815272808075, \"max\": 0.912815272808075}}}\u001b[0m\n",
      "\u001b[34m#metrics {\"StartTime\": 1751914204.9961243, \"EndTime\": 1751914204.9961302, \"Dimensions\": {\"Algorithm\": \"Linear Learner\", \"Host\": \"algo-1\", \"Operation\": \"training\", \"epoch\": 3, \"model\": 25}, \"Metrics\": {\"train_absolute_loss_objective\": {\"sum\": 0.9736235737800598, \"count\": 1, \"min\": 0.9736235737800598, \"max\": 0.9736235737800598}}}\u001b[0m\n",
      "\u001b[34m#metrics {\"StartTime\": 1751914204.9961677, \"EndTime\": 1751914204.9961736, \"Dimensions\": {\"Algorithm\": \"Linear Learner\", \"Host\": \"algo-1\", \"Operation\": \"training\", \"epoch\": 3, \"model\": 26}, \"Metrics\": {\"train_absolute_loss_objective\": {\"sum\": 0.9596468210220337, \"count\": 1, \"min\": 0.9596468210220337, \"max\": 0.9596468210220337}}}\u001b[0m\n",
      "\u001b[34m#metrics {\"StartTime\": 1751914204.996211, \"EndTime\": 1751914204.9962168, \"Dimensions\": {\"Algorithm\": \"Linear Learner\", \"Host\": \"algo-1\", \"Operation\": \"training\", \"epoch\": 3, \"model\": 27}, \"Metrics\": {\"train_absolute_loss_objective\": {\"sum\": 0.9483914971351624, \"count\": 1, \"min\": 0.9483914971351624, \"max\": 0.9483914971351624}}}\u001b[0m\n",
      "\u001b[34m#metrics {\"StartTime\": 1751914204.9962544, \"EndTime\": 1751914204.9962606, \"Dimensions\": {\"Algorithm\": \"Linear Learner\", \"Host\": \"algo-1\", \"Operation\": \"training\", \"epoch\": 3, \"model\": 28}, \"Metrics\": {\"train_absolute_loss_objective\": {\"sum\": 0.929753839969635, \"count\": 1, \"min\": 0.929753839969635, \"max\": 0.929753839969635}}}\u001b[0m\n",
      "\u001b[34m#metrics {\"StartTime\": 1751914204.9962974, \"EndTime\": 1751914204.9963033, \"Dimensions\": {\"Algorithm\": \"Linear Learner\", \"Host\": \"algo-1\", \"Operation\": \"training\", \"epoch\": 3, \"model\": 29}, \"Metrics\": {\"train_absolute_loss_objective\": {\"sum\": 0.9333745241165161, \"count\": 1, \"min\": 0.9333745241165161, \"max\": 0.9333745241165161}}}\u001b[0m\n",
      "\u001b[34m#metrics {\"StartTime\": 1751914204.9963403, \"EndTime\": 1751914204.996346, \"Dimensions\": {\"Algorithm\": \"Linear Learner\", \"Host\": \"algo-1\", \"Operation\": \"training\", \"epoch\": 3, \"model\": 30}, \"Metrics\": {\"train_absolute_loss_objective\": {\"sum\": 0.9875403046607971, \"count\": 1, \"min\": 0.9875403046607971, \"max\": 0.9875403046607971}}}\u001b[0m\n",
      "\u001b[34m#metrics {\"StartTime\": 1751914204.9963865, \"EndTime\": 1751914204.9963925, \"Dimensions\": {\"Algorithm\": \"Linear Learner\", \"Host\": \"algo-1\", \"Operation\": \"training\", \"epoch\": 3, \"model\": 31}, \"Metrics\": {\"train_absolute_loss_objective\": {\"sum\": 0.9082751274108887, \"count\": 1, \"min\": 0.9082751274108887, \"max\": 0.9082751274108887}}}\u001b[0m\n",
      "\u001b[34m[07/07/2025 18:50:04 INFO 139947078211392] #quality_metric: host=algo-1, epoch=3, train absolute_loss_objective <loss>=0.9383927583694458\u001b[0m\n",
      "\u001b[34m[07/07/2025 18:50:04 INFO 139947078211392] #early_stopping_criteria_metric: host=algo-1, epoch=3, criteria=absolute_loss_objective, value=0.6314672231674194\u001b[0m\n",
      "\u001b[34m[07/07/2025 18:50:04 INFO 139947078211392] Epoch 3: Loss improved. Updating best model\u001b[0m\n",
      "\u001b[34m[07/07/2025 18:50:05 INFO 139947078211392] Saving model for epoch: 3\u001b[0m\n",
      "\u001b[34m[07/07/2025 18:50:05 INFO 139947078211392] Saved checkpoint to \"/tmp/tmp0n92yjgt/mx-mod-0000.params\"\u001b[0m\n",
      "\u001b[34m[07/07/2025 18:50:05 INFO 139947078211392] #progress_metric: host=algo-1, completed 80.0 % of epochs\u001b[0m\n",
      "\u001b[34m#metrics {\"StartTime\": 1751914204.9814527, \"EndTime\": 1751914205.0038373, \"Dimensions\": {\"Algorithm\": \"Linear Learner\", \"Host\": \"algo-1\", \"Operation\": \"training\", \"epoch\": 3, \"Meta\": \"training_data_iter\"}, \"Metrics\": {\"Total Records Seen\": {\"sum\": 29.0, \"count\": 1, \"min\": 29, \"max\": 29}, \"Total Batches Seen\": {\"sum\": 11.0, \"count\": 1, \"min\": 11, \"max\": 11}, \"Max Records Seen Between Resets\": {\"sum\": 5.0, \"count\": 1, \"min\": 5, \"max\": 5}, \"Max Batches Seen Between Resets\": {\"sum\": 2.0, \"count\": 1, \"min\": 2, \"max\": 2}, \"Reset Count\": {\"sum\": 6.0, \"count\": 1, \"min\": 6, \"max\": 6}, \"Number of Records Since Last Reset\": {\"sum\": 5.0, \"count\": 1, \"min\": 5, \"max\": 5}, \"Number of Batches Since Last Reset\": {\"sum\": 2.0, \"count\": 1, \"min\": 2, \"max\": 2}}}\u001b[0m\n",
      "\u001b[34m[07/07/2025 18:50:05 INFO 139947078211392] #throughput_metric: host=algo-1, train throughput=222.1371070248284 records/second\u001b[0m\n",
      "\u001b[34m[2025-07-07 18:50:05.019] [tensorio] [info] epoch_stats={\"data_pipeline\": \"/opt/ml/input/data/train\", \"epoch\": 12, \"duration\": 14, \"num_examples\": 2, \"num_bytes\": 240}\u001b[0m\n",
      "\u001b[34m#metrics {\"StartTime\": 1751914205.0192153, \"EndTime\": 1751914205.0192688, \"Dimensions\": {\"Algorithm\": \"Linear Learner\", \"Host\": \"algo-1\", \"Operation\": \"training\", \"epoch\": 4, \"model\": 0}, \"Metrics\": {\"train_absolute_loss_objective\": {\"sum\": 0.9338490962982178, \"count\": 1, \"min\": 0.9338490962982178, \"max\": 0.9338490962982178}}}\u001b[0m\n",
      "\u001b[34m#metrics {\"StartTime\": 1751914205.0195289, \"EndTime\": 1751914205.0195465, \"Dimensions\": {\"Algorithm\": \"Linear Learner\", \"Host\": \"algo-1\", \"Operation\": \"training\", \"epoch\": 4, \"model\": 1}, \"Metrics\": {\"train_absolute_loss_objective\": {\"sum\": 0.9547685384750366, \"count\": 1, \"min\": 0.9547685384750366, \"max\": 0.9547685384750366}}}\u001b[0m\n",
      "\u001b[34m#metrics {\"StartTime\": 1751914205.0196235, \"EndTime\": 1751914205.0196326, \"Dimensions\": {\"Algorithm\": \"Linear Learner\", \"Host\": \"algo-1\", \"Operation\": \"training\", \"epoch\": 4, \"model\": 2}, \"Metrics\": {\"train_absolute_loss_objective\": {\"sum\": 0.9363831877708435, \"count\": 1, \"min\": 0.9363831877708435, \"max\": 0.9363831877708435}}}\u001b[0m\n",
      "\u001b[34m#metrics {\"StartTime\": 1751914205.0197837, \"EndTime\": 1751914205.0197942, \"Dimensions\": {\"Algorithm\": \"Linear Learner\", \"Host\": \"algo-1\", \"Operation\": \"training\", \"epoch\": 4, \"model\": 3}, \"Metrics\": {\"train_absolute_loss_objective\": {\"sum\": 0.9536994695663452, \"count\": 1, \"min\": 0.9536994695663452, \"max\": 0.9536994695663452}}}\u001b[0m\n",
      "\u001b[34m#metrics {\"StartTime\": 1751914205.0198686, \"EndTime\": 1751914205.019877, \"Dimensions\": {\"Algorithm\": \"Linear Learner\", \"Host\": \"algo-1\", \"Operation\": \"training\", \"epoch\": 4, \"model\": 4}, \"Metrics\": {\"train_absolute_loss_objective\": {\"sum\": 0.5405935049057007, \"count\": 1, \"min\": 0.5405935049057007, \"max\": 0.5405935049057007}}}\u001b[0m\n",
      "\u001b[34m#metrics {\"StartTime\": 1751914205.0199914, \"EndTime\": 1751914205.0200007, \"Dimensions\": {\"Algorithm\": \"Linear Learner\", \"Host\": \"algo-1\", \"Operation\": \"training\", \"epoch\": 4, \"model\": 5}, \"Metrics\": {\"train_absolute_loss_objective\": {\"sum\": 0.5519821643829346, \"count\": 1, \"min\": 0.5519821643829346, \"max\": 0.5519821643829346}}}\u001b[0m\n",
      "\u001b[34m#metrics {\"StartTime\": 1751914205.020025, \"EndTime\": 1751914205.0200307, \"Dimensions\": {\"Algorithm\": \"Linear Learner\", \"Host\": \"algo-1\", \"Operation\": \"training\", \"epoch\": 4, \"model\": 6}, \"Metrics\": {\"train_absolute_loss_objective\": {\"sum\": 0.6493128538131714, \"count\": 1, \"min\": 0.6493128538131714, \"max\": 0.6493128538131714}}}\u001b[0m\n",
      "\u001b[34m#metrics {\"StartTime\": 1751914205.0200758, \"EndTime\": 1751914205.0200825, \"Dimensions\": {\"Algorithm\": \"Linear Learner\", \"Host\": \"algo-1\", \"Operation\": \"training\", \"epoch\": 4, \"model\": 7}, \"Metrics\": {\"train_absolute_loss_objective\": {\"sum\": 0.6154258847236633, \"count\": 1, \"min\": 0.6154258847236633, \"max\": 0.6154258847236633}}}\u001b[0m\n",
      "\u001b[34m#metrics {\"StartTime\": 1751914205.020121, \"EndTime\": 1751914205.0201273, \"Dimensions\": {\"Algorithm\": \"Linear Learner\", \"Host\": \"algo-1\", \"Operation\": \"training\", \"epoch\": 4, \"model\": 8}, \"Metrics\": {\"train_absolute_loss_objective\": {\"sum\": 0.9925857782363892, \"count\": 1, \"min\": 0.9925857782363892, \"max\": 0.9925857782363892}}}\u001b[0m\n",
      "\u001b[34m#metrics {\"StartTime\": 1751914205.020226, \"EndTime\": 1751914205.0202343, \"Dimensions\": {\"Algorithm\": \"Linear Learner\", \"Host\": \"algo-1\", \"Operation\": \"training\", \"epoch\": 4, \"model\": 9}, \"Metrics\": {\"train_absolute_loss_objective\": {\"sum\": 0.9212085008621216, \"count\": 1, \"min\": 0.9212085008621216, \"max\": 0.9212085008621216}}}\u001b[0m\n",
      "\u001b[34m#metrics {\"StartTime\": 1751914205.0204222, \"EndTime\": 1751914205.0204341, \"Dimensions\": {\"Algorithm\": \"Linear Learner\", \"Host\": \"algo-1\", \"Operation\": \"training\", \"epoch\": 4, \"model\": 10}, \"Metrics\": {\"train_absolute_loss_objective\": {\"sum\": 0.9282473921775818, \"count\": 1, \"min\": 0.9282473921775818, \"max\": 0.9282473921775818}}}\u001b[0m\n",
      "\u001b[34m#metrics {\"StartTime\": 1751914205.0205927, \"EndTime\": 1751914205.0206037, \"Dimensions\": {\"Algorithm\": \"Linear Learner\", \"Host\": \"algo-1\", \"Operation\": \"training\", \"epoch\": 4, \"model\": 11}, \"Metrics\": {\"train_absolute_loss_objective\": {\"sum\": 0.9126824140548706, \"count\": 1, \"min\": 0.9126824140548706, \"max\": 0.9126824140548706}}}\u001b[0m\n",
      "\u001b[34m#metrics {\"StartTime\": 1751914205.0206358, \"EndTime\": 1751914205.020642, \"Dimensions\": {\"Algorithm\": \"Linear Learner\", \"Host\": \"algo-1\", \"Operation\": \"training\", \"epoch\": 4, \"model\": 12}, \"Metrics\": {\"train_absolute_loss_objective\": {\"sum\": 0.5509631633758545, \"count\": 1, \"min\": 0.5509631633758545, \"max\": 0.5509631633758545}}}\u001b[0m\n",
      "\u001b[34m#metrics {\"StartTime\": 1751914205.020662, \"EndTime\": 1751914205.0206678, \"Dimensions\": {\"Algorithm\": \"Linear Learner\", \"Host\": \"algo-1\", \"Operation\": \"training\", \"epoch\": 4, \"model\": 13}, \"Metrics\": {\"train_absolute_loss_objective\": {\"sum\": 0.5816876888275146, \"count\": 1, \"min\": 0.5816876888275146, \"max\": 0.5816876888275146}}}\u001b[0m\n",
      "\u001b[34m#metrics {\"StartTime\": 1751914205.0207589, \"EndTime\": 1751914205.0207675, \"Dimensions\": {\"Algorithm\": \"Linear Learner\", \"Host\": \"algo-1\", \"Operation\": \"training\", \"epoch\": 4, \"model\": 14}, \"Metrics\": {\"train_absolute_loss_objective\": {\"sum\": 0.5492227077484131, \"count\": 1, \"min\": 0.5492227077484131, \"max\": 0.5492227077484131}}}\u001b[0m\n",
      "\u001b[34m#metrics {\"StartTime\": 1751914205.0208879, \"EndTime\": 1751914205.0208964, \"Dimensions\": {\"Algorithm\": \"Linear Learner\", \"Host\": \"algo-1\", \"Operation\": \"training\", \"epoch\": 4, \"model\": 15}, \"Metrics\": {\"train_absolute_loss_objective\": {\"sum\": 0.5890513062477112, \"count\": 1, \"min\": 0.5890513062477112, \"max\": 0.5890513062477112}}}\u001b[0m\n",
      "\u001b[34m#metrics {\"StartTime\": 1751914205.0210319, \"EndTime\": 1751914205.0210419, \"Dimensions\": {\"Algorithm\": \"Linear Learner\", \"Host\": \"algo-1\", \"Operation\": \"training\", \"epoch\": 4, \"model\": 16}, \"Metrics\": {\"train_absolute_loss_objective\": {\"sum\": 0.8958871960639954, \"count\": 1, \"min\": 0.8958871960639954, \"max\": 0.8958871960639954}}}\u001b[0m\n",
      "\u001b[34m#metrics {\"StartTime\": 1751914205.0211768, \"EndTime\": 1751914205.0211864, \"Dimensions\": {\"Algorithm\": \"Linear Learner\", \"Host\": \"algo-1\", \"Operation\": \"training\", \"epoch\": 4, \"model\": 17}, \"Metrics\": {\"train_absolute_loss_objective\": {\"sum\": 0.9497778415679932, \"count\": 1, \"min\": 0.9497778415679932, \"max\": 0.9497778415679932}}}\u001b[0m\n",
      "\u001b[34m#metrics {\"StartTime\": 1751914205.0213146, \"EndTime\": 1751914205.0213244, \"Dimensions\": {\"Algorithm\": \"Linear Learner\", \"Host\": \"algo-1\", \"Operation\": \"training\", \"epoch\": 4, \"model\": 18}, \"Metrics\": {\"train_absolute_loss_objective\": {\"sum\": 0.9243451356887817, \"count\": 1, \"min\": 0.9243451356887817, \"max\": 0.9243451356887817}}}\u001b[0m\n",
      "\u001b[34m#metrics {\"StartTime\": 1751914205.021353, \"EndTime\": 1751914205.0213592, \"Dimensions\": {\"Algorithm\": \"Linear Learner\", \"Host\": \"algo-1\", \"Operation\": \"training\", \"epoch\": 4, \"model\": 19}, \"Metrics\": {\"train_absolute_loss_objective\": {\"sum\": 0.9215041995048523, \"count\": 1, \"min\": 0.9215041995048523, \"max\": 0.9215041995048523}}}\u001b[0m\n",
      "\u001b[34m#metrics {\"StartTime\": 1751914205.0213792, \"EndTime\": 1751914205.021385, \"Dimensions\": {\"Algorithm\": \"Linear Learner\", \"Host\": \"algo-1\", \"Operation\": \"training\", \"epoch\": 4, \"model\": 20}, \"Metrics\": {\"train_absolute_loss_objective\": {\"sum\": 0.6067673563957214, \"count\": 1, \"min\": 0.6067673563957214, \"max\": 0.6067673563957214}}}\u001b[0m\n",
      "\u001b[34m#metrics {\"StartTime\": 1751914205.0214293, \"EndTime\": 1751914205.021435, \"Dimensions\": {\"Algorithm\": \"Linear Learner\", \"Host\": \"algo-1\", \"Operation\": \"training\", \"epoch\": 4, \"model\": 21}, \"Metrics\": {\"train_absolute_loss_objective\": {\"sum\": 0.6244526505470276, \"count\": 1, \"min\": 0.6244526505470276, \"max\": 0.6244526505470276}}}\u001b[0m\n",
      "\u001b[34m#metrics {\"StartTime\": 1751914205.0214727, \"EndTime\": 1751914205.021479, \"Dimensions\": {\"Algorithm\": \"Linear Learner\", \"Host\": \"algo-1\", \"Operation\": \"training\", \"epoch\": 4, \"model\": 22}, \"Metrics\": {\"train_absolute_loss_objective\": {\"sum\": 0.5494764447212219, \"count\": 1, \"min\": 0.5494764447212219, \"max\": 0.5494764447212219}}}\u001b[0m\n",
      "\u001b[34m#metrics {\"StartTime\": 1751914205.0215237, \"EndTime\": 1751914205.021531, \"Dimensions\": {\"Algorithm\": \"Linear Learner\", \"Host\": \"algo-1\", \"Operation\": \"training\", \"epoch\": 4, \"model\": 23}, \"Metrics\": {\"train_absolute_loss_objective\": {\"sum\": 0.6548804640769958, \"count\": 1, \"min\": 0.6548804640769958, \"max\": 0.6548804640769958}}}\u001b[0m\n",
      "\u001b[34m#metrics {\"StartTime\": 1751914205.0215695, \"EndTime\": 1751914205.0215755, \"Dimensions\": {\"Algorithm\": \"Linear Learner\", \"Host\": \"algo-1\", \"Operation\": \"training\", \"epoch\": 4, \"model\": 24}, \"Metrics\": {\"train_absolute_loss_objective\": {\"sum\": 0.917268693447113, \"count\": 1, \"min\": 0.917268693447113, \"max\": 0.917268693447113}}}\u001b[0m\n",
      "\u001b[34m#metrics {\"StartTime\": 1751914205.021617, \"EndTime\": 1751914205.0216231, \"Dimensions\": {\"Algorithm\": \"Linear Learner\", \"Host\": \"algo-1\", \"Operation\": \"training\", \"epoch\": 4, \"model\": 25}, \"Metrics\": {\"train_absolute_loss_objective\": {\"sum\": 0.9692277908325195, \"count\": 1, \"min\": 0.9692277908325195, \"max\": 0.9692277908325195}}}\u001b[0m\n",
      "\u001b[34m#metrics {\"StartTime\": 1751914205.02167, \"EndTime\": 1751914205.0216775, \"Dimensions\": {\"Algorithm\": \"Linear Learner\", \"Host\": \"algo-1\", \"Operation\": \"training\", \"epoch\": 4, \"model\": 26}, \"Metrics\": {\"train_absolute_loss_objective\": {\"sum\": 0.9554570317268372, \"count\": 1, \"min\": 0.9554570317268372, \"max\": 0.9554570317268372}}}\u001b[0m\n",
      "\u001b[34m#metrics {\"StartTime\": 1751914205.0217159, \"EndTime\": 1751914205.021722, \"Dimensions\": {\"Algorithm\": \"Linear Learner\", \"Host\": \"algo-1\", \"Operation\": \"training\", \"epoch\": 4, \"model\": 27}, \"Metrics\": {\"train_absolute_loss_objective\": {\"sum\": 0.9456201791763306, \"count\": 1, \"min\": 0.9456201791763306, \"max\": 0.9456201791763306}}}\u001b[0m\n",
      "\u001b[34m#metrics {\"StartTime\": 1751914205.0217664, \"EndTime\": 1751914205.0217738, \"Dimensions\": {\"Algorithm\": \"Linear Learner\", \"Host\": \"algo-1\", \"Operation\": \"training\", \"epoch\": 4, \"model\": 28}, \"Metrics\": {\"train_absolute_loss_objective\": {\"sum\": 0.9070140719413757, \"count\": 1, \"min\": 0.9070140719413757, \"max\": 0.9070140719413757}}}\u001b[0m\n",
      "\u001b[34m#metrics {\"StartTime\": 1751914205.0218124, \"EndTime\": 1751914205.0218186, \"Dimensions\": {\"Algorithm\": \"Linear Learner\", \"Host\": \"algo-1\", \"Operation\": \"training\", \"epoch\": 4, \"model\": 29}, \"Metrics\": {\"train_absolute_loss_objective\": {\"sum\": 0.9093941450119019, \"count\": 1, \"min\": 0.9093941450119019, \"max\": 0.9093941450119019}}}\u001b[0m\n",
      "\u001b[34m#metrics {\"StartTime\": 1751914205.0218627, \"EndTime\": 1751914205.0218701, \"Dimensions\": {\"Algorithm\": \"Linear Learner\", \"Host\": \"algo-1\", \"Operation\": \"training\", \"epoch\": 4, \"model\": 30}, \"Metrics\": {\"train_absolute_loss_objective\": {\"sum\": 1.0097506046295166, \"count\": 1, \"min\": 1.0097506046295166, \"max\": 1.0097506046295166}}}\u001b[0m\n",
      "\u001b[34m#metrics {\"StartTime\": 1751914205.0219092, \"EndTime\": 1751914205.0219152, \"Dimensions\": {\"Algorithm\": \"Linear Learner\", \"Host\": \"algo-1\", \"Operation\": \"training\", \"epoch\": 4, \"model\": 31}, \"Metrics\": {\"train_absolute_loss_objective\": {\"sum\": 0.8813499808311462, \"count\": 1, \"min\": 0.8813499808311462, \"max\": 0.8813499808311462}}}\u001b[0m\n",
      "\u001b[34m[07/07/2025 18:50:05 INFO 139947078211392] #quality_metric: host=algo-1, epoch=4, train absolute_loss_objective <loss>=0.9338490962982178\u001b[0m\n",
      "\u001b[34m[07/07/2025 18:50:05 INFO 139947078211392] #early_stopping_criteria_metric: host=algo-1, epoch=4, criteria=absolute_loss_objective, value=0.5405935049057007\u001b[0m\n",
      "\u001b[34m[07/07/2025 18:50:05 INFO 139947078211392] Epoch 4: Loss improved. Updating best model\u001b[0m\n",
      "\u001b[34m[07/07/2025 18:50:05 INFO 139947078211392] Saving model for epoch: 4\u001b[0m\n",
      "\u001b[34m[07/07/2025 18:50:05 INFO 139947078211392] Saved checkpoint to \"/tmp/tmpn07xw1pd/mx-mod-0000.params\"\u001b[0m\n",
      "\u001b[34m[07/07/2025 18:50:05 INFO 139947078211392] #progress_metric: host=algo-1, completed 100.0 % of epochs\u001b[0m\n",
      "\u001b[34m#metrics {\"StartTime\": 1751914205.0040674, \"EndTime\": 1751914205.0301552, \"Dimensions\": {\"Algorithm\": \"Linear Learner\", \"Host\": \"algo-1\", \"Operation\": \"training\", \"epoch\": 4, \"Meta\": \"training_data_iter\"}, \"Metrics\": {\"Total Records Seen\": {\"sum\": 34.0, \"count\": 1, \"min\": 34, \"max\": 34}, \"Total Batches Seen\": {\"sum\": 13.0, \"count\": 1, \"min\": 13, \"max\": 13}, \"Max Records Seen Between Resets\": {\"sum\": 5.0, \"count\": 1, \"min\": 5, \"max\": 5}, \"Max Batches Seen Between Resets\": {\"sum\": 2.0, \"count\": 1, \"min\": 2, \"max\": 2}, \"Reset Count\": {\"sum\": 7.0, \"count\": 1, \"min\": 7, \"max\": 7}, \"Number of Records Since Last Reset\": {\"sum\": 5.0, \"count\": 1, \"min\": 5, \"max\": 5}, \"Number of Batches Since Last Reset\": {\"sum\": 2.0, \"count\": 1, \"min\": 2, \"max\": 2}}}\u001b[0m\n",
      "\u001b[34m[07/07/2025 18:50:05 INFO 139947078211392] #throughput_metric: host=algo-1, train throughput=190.10406468689945 records/second\u001b[0m\n",
      "\u001b[34m[07/07/2025 18:50:05 WARNING 139947078211392] wait_for_all_workers will not sync workers since the kv store is not running distributed\u001b[0m\n",
      "\u001b[34m[07/07/2025 18:50:05 WARNING 139947078211392] wait_for_all_workers will not sync workers since the kv store is not running distributed\u001b[0m\n",
      "\u001b[34m[2025-07-07 18:50:05.031] [tensorio] [info] epoch_stats={\"data_pipeline\": \"/opt/ml/input/data/train\", \"epoch\": 14, \"duration\": 0, \"num_examples\": 1, \"num_bytes\": 192}\u001b[0m\n",
      "\u001b[34m[2025-07-07 18:50:05.035] [tensorio] [info] epoch_stats={\"data_pipeline\": \"/opt/ml/input/data/train\", \"epoch\": 16, \"duration\": 2, \"num_examples\": 2, \"num_bytes\": 240}\u001b[0m\n",
      "\u001b[34m[07/07/2025 18:50:05 INFO 139947078211392] #train_score (algo-1) : ('absolute_loss_objective', 6.655306243896485)\u001b[0m\n",
      "\u001b[34m[07/07/2025 18:50:05 INFO 139947078211392] #train_score (algo-1) : ('mse', 50.222036075592044)\u001b[0m\n",
      "\u001b[34m[07/07/2025 18:50:05 INFO 139947078211392] #train_score (algo-1) : ('absolute_loss', 6.655306243896485)\u001b[0m\n",
      "\u001b[34m[07/07/2025 18:50:05 INFO 139947078211392] #train_score (algo-1) : ('rmse', 7.086750741742795)\u001b[0m\n",
      "\u001b[34m[07/07/2025 18:50:05 INFO 139947078211392] #train_score (algo-1) : ('r2', 0.8332601712943406)\u001b[0m\n",
      "\u001b[34m[07/07/2025 18:50:05 INFO 139947078211392] #train_score (algo-1) : ('mae', 6.655306243896485)\u001b[0m\n",
      "\u001b[34m[07/07/2025 18:50:05 INFO 139947078211392] #quality_metric: host=algo-1, train absolute_loss_objective <loss>=6.655306243896485\u001b[0m\n",
      "\u001b[34m[07/07/2025 18:50:05 INFO 139947078211392] #quality_metric: host=algo-1, train mse <loss>=50.222036075592044\u001b[0m\n",
      "\u001b[34m[07/07/2025 18:50:05 INFO 139947078211392] #quality_metric: host=algo-1, train absolute_loss <loss>=6.655306243896485\u001b[0m\n",
      "\u001b[34m[07/07/2025 18:50:05 INFO 139947078211392] #quality_metric: host=algo-1, train rmse <loss>=7.086750741742795\u001b[0m\n",
      "\u001b[34m[07/07/2025 18:50:05 INFO 139947078211392] #quality_metric: host=algo-1, train r2 <loss>=0.8332601712943406\u001b[0m\n",
      "\u001b[34m[07/07/2025 18:50:05 INFO 139947078211392] #quality_metric: host=algo-1, train mae <loss>=6.655306243896485\u001b[0m\n",
      "\u001b[34m[07/07/2025 18:50:05 INFO 139947078211392] Best model found for hyperparameters: {\"optimizer\": \"adam\", \"learning_rate\": 0.1, \"wd\": 0.0001, \"l1\": 0.0, \"lr_scheduler_step\": 10, \"lr_scheduler_factor\": 0.99, \"lr_scheduler_minimum_lr\": 1e-05}\u001b[0m\n",
      "\u001b[34m[07/07/2025 18:50:05 INFO 139947078211392] Saved checkpoint to \"/tmp/tmpeki8_qqk/mx-mod-0000.params\"\u001b[0m\n",
      "\u001b[34m[07/07/2025 18:50:05 INFO 139947078211392] Test data is not provided.\u001b[0m\n",
      "\u001b[34m#metrics {\"StartTime\": 1751914204.7898078, \"EndTime\": 1751914205.0419111, \"Dimensions\": {\"Algorithm\": \"Linear Learner\", \"Host\": \"algo-1\", \"Operation\": \"training\"}, \"Metrics\": {\"initialize.time\": {\"sum\": 112.9751205444336, \"count\": 1, \"min\": 112.9751205444336, \"max\": 112.9751205444336}, \"epochs\": {\"sum\": 5.0, \"count\": 1, \"min\": 5, \"max\": 5}, \"check_early_stopping.time\": {\"sum\": 4.067897796630859, \"count\": 5, \"min\": 0.6604194641113281, \"max\": 0.9746551513671875}, \"update.time\": {\"sum\": 112.77914047241211, \"count\": 5, \"min\": 19.41967010498047, \"max\": 29.666900634765625}, \"finalize.time\": {\"sum\": 6.705760955810547, \"count\": 1, \"min\": 6.705760955810547, \"max\": 6.705760955810547}, \"setuptime\": {\"sum\": 1.7447471618652344, \"count\": 1, \"min\": 1.7447471618652344, \"max\": 1.7447471618652344}, \"totaltime\": {\"sum\": 344.01798248291016, \"count\": 1, \"min\": 344.01798248291016, \"max\": 344.01798248291016}}}\u001b[0m\n",
      "\n",
      "2025-07-07 18:50:23 Completed - Training job completed\n",
      "Training seconds: 160\n",
      "Billable seconds: 160\n"
     ]
    }
   ],
   "source": [
    "# fit the model\n",
    "linear.fit({\"train\":s3_train_data})"
   ]
  },
  {
   "cell_type": "code",
   "execution_count": 24,
   "id": "bd35fc1e-c148-4eab-9dd0-dc6824184863",
   "metadata": {
    "execution": {
     "iopub.execute_input": "2025-07-07T18:54:49.866887Z",
     "iopub.status.busy": "2025-07-07T18:54:49.866590Z",
     "iopub.status.idle": "2025-07-07T18:59:22.313745Z",
     "shell.execute_reply": "2025-07-07T18:59:22.312936Z",
     "shell.execute_reply.started": "2025-07-07T18:54:49.866865Z"
    }
   },
   "outputs": [
    {
     "name": "stderr",
     "output_type": "stream",
     "text": [
      "INFO:sagemaker:Creating model with name: linear-learner-2025-07-07-18-54-49-867\n",
      "INFO:sagemaker:Creating endpoint-config with name linear-learner-2025-07-07-18-54-49-867\n",
      "INFO:sagemaker:Creating endpoint with name linear-learner-2025-07-07-18-54-49-867\n"
     ]
    },
    {
     "name": "stdout",
     "output_type": "stream",
     "text": [
      "--------!"
     ]
    }
   ],
   "source": [
    "# Deploy the trained model as an endpoint\n",
    "linear_regressor = linear.deploy(\n",
    "    initial_instance_count=1,\n",
    "    instance_type=\"ml.m4.xlarge\"\n",
    ")\n"
   ]
  },
  {
   "cell_type": "code",
   "execution_count": 25,
   "id": "02d6b74f-7e24-47d6-ac30-d694b5b30e73",
   "metadata": {
    "execution": {
     "iopub.execute_input": "2025-07-07T18:59:46.833631Z",
     "iopub.status.busy": "2025-07-07T18:59:46.832476Z",
     "iopub.status.idle": "2025-07-07T18:59:46.972132Z",
     "shell.execute_reply": "2025-07-07T18:59:46.971217Z",
     "shell.execute_reply.started": "2025-07-07T18:59:46.833597Z"
    }
   },
   "outputs": [],
   "source": [
    "# Set up serialization and deserialization for the endpoint\n",
    "linear_regressor.serializer = sagemaker.serializers.CSVSerializer()\n",
    "linear_regressor.deserializer = sagemaker.deserializers.JSONDeserializer()\n",
    "\n",
    "# Make prediction\n",
    "results = linear_regressor.predict(X_test)\n"
   ]
  },
  {
   "cell_type": "code",
   "execution_count": 26,
   "id": "04e4cd17-7625-4ab7-af74-9e823cdd6dcd",
   "metadata": {
    "execution": {
     "iopub.execute_input": "2025-07-07T19:00:12.792869Z",
     "iopub.status.busy": "2025-07-07T19:00:12.791105Z",
     "iopub.status.idle": "2025-07-07T19:00:12.801096Z",
     "shell.execute_reply": "2025-07-07T19:00:12.800253Z",
     "shell.execute_reply.started": "2025-07-07T19:00:12.792826Z"
    }
   },
   "outputs": [
    {
     "data": {
      "text/plain": [
       "{'predictions': [{'score': 32.262969970703125},\n",
       "  {'score': 57.60004425048828},\n",
       "  {'score': 38.22463607788086},\n",
       "  {'score': 47.91233825683594},\n",
       "  {'score': 26.301307678222656}]}"
      ]
     },
     "execution_count": 26,
     "metadata": {},
     "output_type": "execute_result"
    }
   ],
   "source": [
    "results"
   ]
  },
  {
   "cell_type": "code",
   "execution_count": null,
   "id": "4d9f10d4-bf31-41e0-bd56-50f7efdf3620",
   "metadata": {},
   "outputs": [],
   "source": []
  }
 ],
 "metadata": {
  "kernelspec": {
   "display_name": "Python 3 (ipykernel)",
   "language": "python",
   "name": "python3"
  },
  "language_info": {
   "codemirror_mode": {
    "name": "ipython",
    "version": 3
   },
   "file_extension": ".py",
   "mimetype": "text/x-python",
   "name": "python",
   "nbconvert_exporter": "python",
   "pygments_lexer": "ipython3",
   "version": "3.12.9"
  }
 },
 "nbformat": 4,
 "nbformat_minor": 5
}
